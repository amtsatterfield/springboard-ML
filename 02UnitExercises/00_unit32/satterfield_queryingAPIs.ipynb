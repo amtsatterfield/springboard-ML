{
 "cells": [
  {
   "cell_type": "code",
   "execution_count": 1,
   "id": "86bf4e2f",
   "metadata": {},
   "outputs": [],
   "source": [
    "import json\n",
    "import urllib.request"
   ]
  },
  {
   "cell_type": "markdown",
   "id": "c7fac106",
   "metadata": {},
   "source": [
    "This has been updated and we now need an API key appended to the end of the query. An API was requested via OMDb web interface and then stored in a config."
   ]
  },
  {
   "cell_type": "code",
   "execution_count": 19,
   "id": "a73883dc",
   "metadata": {},
   "outputs": [],
   "source": [
    "config = r'C:\\Users\\maggi\\01Jupyter\\pycon_2017-master\\api\\config.json'"
   ]
  },
  {
   "cell_type": "markdown",
   "id": "446691d9",
   "metadata": {},
   "source": [
    "Change the config path to where your current file is located"
   ]
  },
  {
   "cell_type": "code",
   "execution_count": 20,
   "id": "cb4d7190",
   "metadata": {},
   "outputs": [],
   "source": [
    "with open(config, \"r\") as key:\n",
    "    api_key = json.load(key).get(\"api_key\")"
   ]
  },
  {
   "cell_type": "code",
   "execution_count": 21,
   "id": "d9592530",
   "metadata": {},
   "outputs": [
    {
     "name": "stdout",
     "output_type": "stream",
     "text": [
      "{'Title': 'Black Widow', 'Year': '2021', 'Rated': 'PG-13', 'Released': '09 Jul 2021', 'Runtime': '134 min', 'Genre': 'Action, Adventure, Sci-Fi', 'Director': 'Cate Shortland', 'Writer': 'Eric Pearson, Jac Schaeffer, Ned Benson', 'Actors': 'Scarlett Johansson, Florence Pugh, David Harbour', 'Plot': 'Natasha Romanoff confronts the darker parts of her ledger when a dangerous conspiracy with ties to her past arises.', 'Language': 'English, Russian, Norwegian, Hungarian, Macedonian, Finnish', 'Country': 'United States', 'Awards': 'N/A', 'Poster': 'https://m.media-amazon.com/images/M/MV5BNjRmNDI5MjMtMmFhZi00YzcwLWI4ZGItMGI2MjI0N2Q3YmIwXkEyXkFqcGdeQXVyMTkxNjUyNQ@@._V1_SX300.jpg', 'Ratings': [{'Source': 'Internet Movie Database', 'Value': '6.9/10'}, {'Source': 'Rotten Tomatoes', 'Value': '80%'}, {'Source': 'Metacritic', 'Value': '67/100'}], 'Metascore': '67', 'imdbRating': '6.9', 'imdbVotes': '121,932', 'imdbID': 'tt3480822', 'Type': 'movie', 'DVD': '09 Jul 2021', 'BoxOffice': '$138,027,361', 'Production': 'Marvel Studios', 'Website': 'N/A', 'Response': 'True'}\n"
     ]
    }
   ],
   "source": [
    "data = json.loads(urllib.request.urlopen(f'http://www.omdbapi.com/?t=Black+Widow&apikey={api_key}').read().decode('utf8'))\n",
    "print(data)"
   ]
  },
  {
   "cell_type": "code",
   "execution_count": 8,
   "id": "68a35eed",
   "metadata": {},
   "outputs": [
    {
     "data": {
      "text/plain": [
       "dict_keys(['Title', 'Year', 'Rated', 'Released', 'Runtime', 'Genre', 'Director', 'Writer', 'Actors', 'Plot', 'Language', 'Country', 'Awards', 'Poster', 'Ratings', 'Metascore', 'imdbRating', 'imdbVotes', 'imdbID', 'Type', 'DVD', 'BoxOffice', 'Production', 'Website', 'Response'])"
      ]
     },
     "execution_count": 8,
     "metadata": {},
     "output_type": "execute_result"
    }
   ],
   "source": [
    "data.keys()"
   ]
  },
  {
   "cell_type": "code",
   "execution_count": 18,
   "id": "6b653301",
   "metadata": {},
   "outputs": [
    {
     "name": "stdout",
     "output_type": "stream",
     "text": [
      "Title: Black Widow\n",
      "\n",
      "Year: 2021\n",
      "\n",
      "Rated: PG-13\n",
      "\n",
      "Released: 09 Jul 2021\n",
      "\n",
      "Runtime: 134 min\n",
      "\n",
      "Genre: Action, Adventure, Sci-Fi\n",
      "\n",
      "Director: Cate Shortland\n",
      "\n",
      "Writer: Eric Pearson, Jac Schaeffer, Ned Benson\n",
      "\n",
      "Actors: Scarlett Johansson, Florence Pugh, David Harbour\n",
      "\n",
      "Plot: Natasha Romanoff confronts the darker parts of her ledger when a dangerous conspiracy with ties to her past arises.\n",
      "\n",
      "Language: English, Russian, Norwegian, Hungarian, Macedonian, Finnish\n",
      "\n",
      "Country: United States\n",
      "\n",
      "Awards: N/A\n",
      "\n",
      "Poster: https://m.media-amazon.com/images/M/MV5BNjRmNDI5MjMtMmFhZi00YzcwLWI4ZGItMGI2MjI0N2Q3YmIwXkEyXkFqcGdeQXVyMTkxNjUyNQ@@._V1_SX300.jpg\n",
      "\n",
      "Ratings: [{'Source': 'Internet Movie Database', 'Value': '6.9/10'}, {'Source': 'Rotten Tomatoes', 'Value': '80%'}, {'Source': 'Metacritic', 'Value': '67/100'}]\n",
      "\n",
      "Metascore: 67\n",
      "\n",
      "imdbRating: 6.9\n",
      "\n",
      "imdbVotes: 121,932\n",
      "\n",
      "imdbID: tt3480822\n",
      "\n",
      "Type: movie\n",
      "\n",
      "DVD: 09 Jul 2021\n",
      "\n",
      "BoxOffice: $138,027,361\n",
      "\n",
      "Production: Marvel Studios\n",
      "\n",
      "Website: N/A\n",
      "\n",
      "Response: True\n",
      "\n"
     ]
    }
   ],
   "source": [
    "for data_key, data_vals in data.items():\n",
    "    print(f'{data_key}: {data_vals}\\n')"
   ]
  }
 ],
 "metadata": {
  "kernelspec": {
   "display_name": "sbunit32",
   "language": "python",
   "name": "sbunit32"
  },
  "language_info": {
   "codemirror_mode": {
    "name": "ipython",
    "version": 3
   },
   "file_extension": ".py",
   "mimetype": "text/x-python",
   "name": "python",
   "nbconvert_exporter": "python",
   "pygments_lexer": "ipython3",
   "version": "3.9.6"
  }
 },
 "nbformat": 4,
 "nbformat_minor": 5
}
