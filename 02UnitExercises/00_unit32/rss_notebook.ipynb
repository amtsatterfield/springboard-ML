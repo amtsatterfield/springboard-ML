{
 "cells": [
  {
   "cell_type": "markdown",
   "metadata": {},
   "source": [
    "## RSS"
   ]
  },
  {
   "cell_type": "markdown",
   "metadata": {},
   "source": [
    "You can find RSS feeds on many different sites. [Library of Congress](https://www.loc.gov/rss/) has a lot. Most blogs and news web sites have them, for example [Tech Crunch](https://techcrunch.com/rssfeeds/), [New York Times](http://www.nytimes.com/services/xml/rss/index.html), and [NPR](https://help.npr.org/customer/portal/articles/2094175-where-can-i-find-npr-rss-feeds-). The [DC Public Library](http://www.dclibrary.org/) even gives you an RSS feed of your [catalog searches](https://catalog.dclibrary.org/client/rss/hitlist/dcpl/qu=python). iTunes delivers podcasts by [aggregating RSS feeds](http://itunespartner.apple.com/en/podcasts/faq) from content creators. \n",
    "\n",
    "Today we are going to take a look at the [Netflix Top 100 DVDs](https://dvd.netflix.com/RSSFeeds). We will use the Python package [FeedParser](https://pypi.python.org/pypi/feedparser) to work with the RSS feed. FeedParser will allow us to deconstruct the data in the feed."
   ]
  },
  {
   "cell_type": "code",
   "execution_count": 1,
   "metadata": {},
   "outputs": [],
   "source": [
    "import feedparser\n",
    "import pandas as pd"
   ]
  },
  {
   "cell_type": "code",
   "execution_count": 2,
   "metadata": {},
   "outputs": [],
   "source": [
    "RSS_URL = \"https://usa.newonnetflix.info/feed\""
   ]
  },
  {
   "cell_type": "code",
   "execution_count": 3,
   "metadata": {},
   "outputs": [],
   "source": [
    "feed = feedparser.parse(RSS_URL)"
   ]
  },
  {
   "cell_type": "code",
   "execution_count": 4,
   "metadata": {},
   "outputs": [
    {
     "data": {
      "text/plain": [
       "feedparser.util.FeedParserDict"
      ]
     },
     "execution_count": 4,
     "metadata": {},
     "output_type": "execute_result"
    }
   ],
   "source": [
    "type(feed)"
   ]
  },
  {
   "cell_type": "markdown",
   "metadata": {},
   "source": [
    "\"parse\" is the primary function in FeedParser. The returned object is dictionary like and can be handled similarly to a dictionary. For example, we can look at the keys it contains and what type of items those keys are."
   ]
  },
  {
   "cell_type": "code",
   "execution_count": 5,
   "metadata": {},
   "outputs": [
    {
     "data": {
      "text/plain": [
       "dict_keys(['bozo', 'entries', 'feed', 'headers', 'updated', 'updated_parsed', 'href', 'status', 'encoding', 'version', 'namespaces'])"
      ]
     },
     "execution_count": 5,
     "metadata": {},
     "output_type": "execute_result"
    }
   ],
   "source": [
    "feed.keys()"
   ]
  },
  {
   "cell_type": "code",
   "execution_count": 6,
   "metadata": {},
   "outputs": [
    {
     "data": {
      "text/plain": [
       "bool"
      ]
     },
     "execution_count": 6,
     "metadata": {},
     "output_type": "execute_result"
    }
   ],
   "source": [
    "type(feed.bozo)"
   ]
  },
  {
   "cell_type": "code",
   "execution_count": 7,
   "metadata": {
    "scrolled": false
   },
   "outputs": [
    {
     "data": {
      "text/plain": [
       "feedparser.util.FeedParserDict"
      ]
     },
     "execution_count": 7,
     "metadata": {},
     "output_type": "execute_result"
    }
   ],
   "source": [
    "type(feed.feed)"
   ]
  },
  {
   "cell_type": "markdown",
   "metadata": {},
   "source": [
    "We will look at some, but not all, of the data stored in the feed. For more information about the keys, see the [documentation](http://pythonhosted.org/feedparser/).\n",
    "\n",
    "We can use the version to check which type of feed we have."
   ]
  },
  {
   "cell_type": "code",
   "execution_count": 8,
   "metadata": {},
   "outputs": [
    {
     "data": {
      "text/plain": [
       "'rss20'"
      ]
     },
     "execution_count": 8,
     "metadata": {},
     "output_type": "execute_result"
    }
   ],
   "source": [
    "feed.version"
   ]
  },
  {
   "cell_type": "markdown",
   "metadata": {},
   "source": [
    "Bozo is an interesing key to know about if you are going to parse a RSS feed in code. FeedParser sets the bozo bit when it detects a feed is not well-formed. (FeedParser will still parse the feed if it is not well-formed.) You can use the bozo bit to create error handling or just print a simple warning."
   ]
  },
  {
   "cell_type": "code",
   "execution_count": 9,
   "metadata": {},
   "outputs": [
    {
     "name": "stdout",
     "output_type": "stream",
     "text": [
      "Well done, you have a well-formed feed!\n"
     ]
    }
   ],
   "source": [
    "if feed.bozo == 0:\n",
    "    print(\"Well done, you have a well-formed feed!\")\n",
    "else:\n",
    "    print(\"Potential trouble ahead.\")"
   ]
  },
  {
   "cell_type": "markdown",
   "metadata": {},
   "source": [
    "We can look at some of the feed elements through the feed attribute."
   ]
  },
  {
   "cell_type": "code",
   "execution_count": 10,
   "metadata": {},
   "outputs": [
    {
     "data": {
      "text/plain": [
       "dict_keys(['webfeeds_analytics', 'title', 'title_detail', 'links', 'link', 'subtitle', 'subtitle_detail', 'language', 'published', 'published_parsed', 'updated', 'updated_parsed', 'authors', 'author', 'author_detail', 'publisher', 'publisher_detail'])"
      ]
     },
     "execution_count": 10,
     "metadata": {},
     "output_type": "execute_result"
    }
   ],
   "source": [
    "feed.feed.keys()"
   ]
  },
  {
   "cell_type": "code",
   "execution_count": 11,
   "metadata": {},
   "outputs": [
    {
     "name": "stdout",
     "output_type": "stream",
     "text": [
      "New On Netflix USA\n",
      "https://usa.newonnetflix.info\n",
      "RSS feed for new additions over the last 5 days to Netflix USA (100% unofficial!). A project by MaFt.co.uk\n"
     ]
    }
   ],
   "source": [
    "print(feed.feed.title)\n",
    "print(feed.feed.link)\n",
    "print(feed.feed.description)"
   ]
  },
  {
   "cell_type": "markdown",
   "metadata": {},
   "source": [
    "The [reference section](http://pythonhosted.org/feedparser/reference.html) of the feedparser documenation shows us all the inforamtion thatcan be in a feed. [Annotated Examples](http://pythonhosted.org/feedparser/annotated-examples.html) are also provided. But note the caution provided-\n",
    "\n",
    "\"Caution: Even though many of these elements are required according to the specification, real-world feeds may be missing any element. If an element is not present in the feed, it will not be present in the parsed results. You should not rely on any particular element being present.\"\n",
    "\n",
    "For example, our feed is RSS 2.0. One of the elements available in this version is the published date."
   ]
  },
  {
   "cell_type": "code",
   "execution_count": 17,
   "metadata": {},
   "outputs": [
    {
     "data": {
      "text/plain": [
       "'Wed, 18 Aug 2021 01:07:08 -0400'"
      ]
     },
     "execution_count": 17,
     "metadata": {},
     "output_type": "execute_result"
    }
   ],
   "source": [
    "feed.feed.published"
   ]
  },
  {
   "cell_type": "markdown",
   "metadata": {},
   "source": [
    "We can see from our error, our feed is not using 'published'.\n",
    "\n",
    "As with [standard python dictionaries](https://docs.python.org/3.5/library/stdtypes.html#dict), we can use the \"get\" method to see if a key exists. This is useful if we are writing code."
   ]
  },
  {
   "cell_type": "code",
   "execution_count": 15,
   "metadata": {},
   "outputs": [
    {
     "data": {
      "text/plain": [
       "'Wed, 18 Aug 2021 01:07:08 -0400'"
      ]
     },
     "execution_count": 15,
     "metadata": {},
     "output_type": "execute_result"
    }
   ],
   "source": [
    "feed.feed.get('published', 'N/A')"
   ]
  },
  {
   "cell_type": "markdown",
   "metadata": {},
   "source": [
    "The data we are looking for are contained in the entries. Given the feed we are working with, how many entries do you think we have?"
   ]
  },
  {
   "cell_type": "code",
   "execution_count": 18,
   "metadata": {},
   "outputs": [
    {
     "data": {
      "text/plain": [
       "26"
      ]
     },
     "execution_count": 18,
     "metadata": {},
     "output_type": "execute_result"
    }
   ],
   "source": [
    "len(feed.entries)"
   ]
  },
  {
   "cell_type": "markdown",
   "metadata": {
    "scrolled": false
   },
   "source": [
    "The items in entries are stored as a list."
   ]
  },
  {
   "cell_type": "code",
   "execution_count": 19,
   "metadata": {},
   "outputs": [
    {
     "data": {
      "text/plain": [
       "list"
      ]
     },
     "execution_count": 19,
     "metadata": {},
     "output_type": "execute_result"
    }
   ],
   "source": [
    "type(feed.entries)"
   ]
  },
  {
   "cell_type": "code",
   "execution_count": 20,
   "metadata": {},
   "outputs": [
    {
     "data": {
      "text/plain": [
       "'18th Aug: Nneka The Pretty Serpent (2020), 2hr 20m [TV-14] (6/10)'"
      ]
     },
     "execution_count": 20,
     "metadata": {},
     "output_type": "execute_result"
    }
   ],
   "source": [
    "feed.entries[0].title"
   ]
  },
  {
   "cell_type": "code",
   "execution_count": null,
   "metadata": {
    "collapsed": true
   },
   "outputs": [],
   "source": [
    "i = 0\n",
    "for entry in feed.entries:\n",
    "    print(i, feed.entries[i].title)\n",
    "    i += 1"
   ]
  },
  {
   "cell_type": "markdown",
   "metadata": {},
   "source": [
    "Given that information, what is something we can do with this data? Why not make it a dataframe?"
   ]
  },
  {
   "cell_type": "code",
   "execution_count": 22,
   "metadata": {},
   "outputs": [],
   "source": [
    "df = pd.DataFrame(feed.entries)"
   ]
  },
  {
   "cell_type": "code",
   "execution_count": 23,
   "metadata": {
    "scrolled": false
   },
   "outputs": [
    {
     "data": {
      "text/html": [
       "<div>\n",
       "<style scoped>\n",
       "    .dataframe tbody tr th:only-of-type {\n",
       "        vertical-align: middle;\n",
       "    }\n",
       "\n",
       "    .dataframe tbody tr th {\n",
       "        vertical-align: top;\n",
       "    }\n",
       "\n",
       "    .dataframe thead th {\n",
       "        text-align: right;\n",
       "    }\n",
       "</style>\n",
       "<table border=\"1\" class=\"dataframe\">\n",
       "  <thead>\n",
       "    <tr style=\"text-align: right;\">\n",
       "      <th></th>\n",
       "      <th>title</th>\n",
       "      <th>title_detail</th>\n",
       "      <th>links</th>\n",
       "      <th>link</th>\n",
       "      <th>summary</th>\n",
       "      <th>summary_detail</th>\n",
       "      <th>published</th>\n",
       "      <th>published_parsed</th>\n",
       "      <th>id</th>\n",
       "      <th>guidislink</th>\n",
       "    </tr>\n",
       "  </thead>\n",
       "  <tbody>\n",
       "    <tr>\n",
       "      <th>0</th>\n",
       "      <td>18th Aug: Nneka The Pretty Serpent (2020), 2hr...</td>\n",
       "      <td>{'type': 'text/plain', 'language': None, 'base...</td>\n",
       "      <td>[{'rel': 'alternate', 'type': 'text/html', 'hr...</td>\n",
       "      <td>https://usa.newonnetflix.info/info/81435734</td>\n",
       "      <td>Years after the mysterious murder of her paren...</td>\n",
       "      <td>{'type': 'text/html', 'language': None, 'base'...</td>\n",
       "      <td>Wed, 18 Aug 2021 01:07:08 -0400</td>\n",
       "      <td>(2021, 8, 18, 5, 7, 8, 2, 230, 0)</td>\n",
       "      <td>https://usa.newonnetflix.info/info/81435734</td>\n",
       "      <td>False</td>\n",
       "    </tr>\n",
       "    <tr>\n",
       "      <th>1</th>\n",
       "      <td>18th Aug: Pahuna (2018), 1hr 22m [TV-PG] - Str...</td>\n",
       "      <td>{'type': 'text/plain', 'language': None, 'base...</td>\n",
       "      <td>[{'rel': 'alternate', 'type': 'text/html', 'hr...</td>\n",
       "      <td>https://usa.newonnetflix.info/info/81045052</td>\n",
       "      <td>[Streaming Again] Fleeing unrest in their nati...</td>\n",
       "      <td>{'type': 'text/html', 'language': None, 'base'...</td>\n",
       "      <td>Tue, 17 Aug 2021 22:07:19 -0400</td>\n",
       "      <td>(2021, 8, 18, 2, 7, 19, 2, 230, 0)</td>\n",
       "      <td>https://usa.newonnetflix.info/info/81045052</td>\n",
       "      <td>False</td>\n",
       "    </tr>\n",
       "    <tr>\n",
       "      <th>2</th>\n",
       "      <td>18th Aug: Black Island (2021), 1hr 44m [TV-MA]...</td>\n",
       "      <td>{'type': 'text/plain', 'language': None, 'base...</td>\n",
       "      <td>[{'rel': 'alternate', 'type': 'text/html', 'hr...</td>\n",
       "      <td>https://usa.newonnetflix.info/info/81170838</td>\n",
       "      <td>The dark secrets of a seemingly peaceful islan...</td>\n",
       "      <td>{'type': 'text/html', 'language': None, 'base'...</td>\n",
       "      <td>Tue, 17 Aug 2021 22:07:08 -0400</td>\n",
       "      <td>(2021, 8, 18, 2, 7, 8, 2, 230, 0)</td>\n",
       "      <td>https://usa.newonnetflix.info/info/81170838</td>\n",
       "      <td>False</td>\n",
       "    </tr>\n",
       "    <tr>\n",
       "      <th>3</th>\n",
       "      <td>18th Aug: The Defeated (2020), 1 Season [TV-MA...</td>\n",
       "      <td>{'type': 'text/plain', 'language': None, 'base...</td>\n",
       "      <td>[{'rel': 'alternate', 'type': 'text/html', 'hr...</td>\n",
       "      <td>https://usa.newonnetflix.info/info/81424068</td>\n",
       "      <td>In 1946 Berlin, an American cop searches for h...</td>\n",
       "      <td>{'type': 'text/html', 'language': None, 'base'...</td>\n",
       "      <td>Tue, 17 Aug 2021 22:07:08 -0400</td>\n",
       "      <td>(2021, 8, 18, 2, 7, 8, 2, 230, 0)</td>\n",
       "      <td>https://usa.newonnetflix.info/info/81424068</td>\n",
       "      <td>False</td>\n",
       "    </tr>\n",
       "    <tr>\n",
       "      <th>4</th>\n",
       "      <td>18th Aug: Memories of a Murderer: The Nilsen T...</td>\n",
       "      <td>{'type': 'text/plain', 'language': None, 'base...</td>\n",
       "      <td>[{'rel': 'alternate', 'type': 'text/html', 'hr...</td>\n",
       "      <td>https://usa.newonnetflix.info/info/81097791</td>\n",
       "      <td>Serial killer Dennis Nilsen narrates his life ...</td>\n",
       "      <td>{'type': 'text/html', 'language': None, 'base'...</td>\n",
       "      <td>Tue, 17 Aug 2021 22:07:08 -0400</td>\n",
       "      <td>(2021, 8, 18, 2, 7, 8, 2, 230, 0)</td>\n",
       "      <td>https://usa.newonnetflix.info/info/81097791</td>\n",
       "      <td>False</td>\n",
       "    </tr>\n",
       "  </tbody>\n",
       "</table>\n",
       "</div>"
      ],
      "text/plain": [
       "                                               title  \\\n",
       "0  18th Aug: Nneka The Pretty Serpent (2020), 2hr...   \n",
       "1  18th Aug: Pahuna (2018), 1hr 22m [TV-PG] - Str...   \n",
       "2  18th Aug: Black Island (2021), 1hr 44m [TV-MA]...   \n",
       "3  18th Aug: The Defeated (2020), 1 Season [TV-MA...   \n",
       "4  18th Aug: Memories of a Murderer: The Nilsen T...   \n",
       "\n",
       "                                        title_detail  \\\n",
       "0  {'type': 'text/plain', 'language': None, 'base...   \n",
       "1  {'type': 'text/plain', 'language': None, 'base...   \n",
       "2  {'type': 'text/plain', 'language': None, 'base...   \n",
       "3  {'type': 'text/plain', 'language': None, 'base...   \n",
       "4  {'type': 'text/plain', 'language': None, 'base...   \n",
       "\n",
       "                                               links  \\\n",
       "0  [{'rel': 'alternate', 'type': 'text/html', 'hr...   \n",
       "1  [{'rel': 'alternate', 'type': 'text/html', 'hr...   \n",
       "2  [{'rel': 'alternate', 'type': 'text/html', 'hr...   \n",
       "3  [{'rel': 'alternate', 'type': 'text/html', 'hr...   \n",
       "4  [{'rel': 'alternate', 'type': 'text/html', 'hr...   \n",
       "\n",
       "                                          link  \\\n",
       "0  https://usa.newonnetflix.info/info/81435734   \n",
       "1  https://usa.newonnetflix.info/info/81045052   \n",
       "2  https://usa.newonnetflix.info/info/81170838   \n",
       "3  https://usa.newonnetflix.info/info/81424068   \n",
       "4  https://usa.newonnetflix.info/info/81097791   \n",
       "\n",
       "                                             summary  \\\n",
       "0  Years after the mysterious murder of her paren...   \n",
       "1  [Streaming Again] Fleeing unrest in their nati...   \n",
       "2  The dark secrets of a seemingly peaceful islan...   \n",
       "3  In 1946 Berlin, an American cop searches for h...   \n",
       "4  Serial killer Dennis Nilsen narrates his life ...   \n",
       "\n",
       "                                      summary_detail  \\\n",
       "0  {'type': 'text/html', 'language': None, 'base'...   \n",
       "1  {'type': 'text/html', 'language': None, 'base'...   \n",
       "2  {'type': 'text/html', 'language': None, 'base'...   \n",
       "3  {'type': 'text/html', 'language': None, 'base'...   \n",
       "4  {'type': 'text/html', 'language': None, 'base'...   \n",
       "\n",
       "                         published                    published_parsed  \\\n",
       "0  Wed, 18 Aug 2021 01:07:08 -0400   (2021, 8, 18, 5, 7, 8, 2, 230, 0)   \n",
       "1  Tue, 17 Aug 2021 22:07:19 -0400  (2021, 8, 18, 2, 7, 19, 2, 230, 0)   \n",
       "2  Tue, 17 Aug 2021 22:07:08 -0400   (2021, 8, 18, 2, 7, 8, 2, 230, 0)   \n",
       "3  Tue, 17 Aug 2021 22:07:08 -0400   (2021, 8, 18, 2, 7, 8, 2, 230, 0)   \n",
       "4  Tue, 17 Aug 2021 22:07:08 -0400   (2021, 8, 18, 2, 7, 8, 2, 230, 0)   \n",
       "\n",
       "                                            id  guidislink  \n",
       "0  https://usa.newonnetflix.info/info/81435734       False  \n",
       "1  https://usa.newonnetflix.info/info/81045052       False  \n",
       "2  https://usa.newonnetflix.info/info/81170838       False  \n",
       "3  https://usa.newonnetflix.info/info/81424068       False  \n",
       "4  https://usa.newonnetflix.info/info/81097791       False  "
      ]
     },
     "execution_count": 23,
     "metadata": {},
     "output_type": "execute_result"
    }
   ],
   "source": [
    "df.head()"
   ]
  },
  {
   "cell_type": "markdown",
   "metadata": {},
   "source": [
    "Challenge: write code to create a dataframe of the top 10 movies from the Netflix Top 100 DVDs and iTunes. Check to see if your feed is well formed. Compile the name of the feed as the souce, the published date, the movie ranking in the list, the movie title, a link to the movie, and the summary. If the published date does not exist in the feed, use the current date. Save your dataframe as a csv. Here is a link to one [possible solution](./rss_challenge.py)."
   ]
  },
  {
   "cell_type": "raw",
   "metadata": {},
   "source": [
    "1. Check to see if your feed is well formed."
   ]
  },
  {
   "cell_type": "code",
   "execution_count": 24,
   "metadata": {},
   "outputs": [
    {
     "name": "stdout",
     "output_type": "stream",
     "text": [
      "well formed\n"
     ]
    }
   ],
   "source": [
    "if feed.bozo == 0:\n",
    "    print(\"well formed\")\n",
    "else:\n",
    "    print (\":(\")"
   ]
  },
  {
   "cell_type": "code",
   "execution_count": 25,
   "metadata": {},
   "outputs": [
    {
     "name": "stdout",
     "output_type": "stream",
     "text": [
      "[{'title': '18th Aug: Nneka The Pretty Serpent (2020), 2hr 20m [TV-14] (6/10)', 'title_detail': {'type': 'text/plain', 'language': None, 'base': 'https://usa.newonnetflix.info/feed', 'value': '18th Aug: Nneka The Pretty Serpent (2020), 2hr 20m [TV-14] (6/10)'}, 'links': [{'rel': 'alternate', 'type': 'text/html', 'href': 'https://usa.newonnetflix.info/info/81435734'}], 'link': 'https://usa.newonnetflix.info/info/81435734', 'summary': 'Years after the mysterious murder of her parents, a traumatized woman gains supernatural powers that aid in her quest for revenge against the killers.<br /><img src=\"https://occ-0-3419-3418.1.nflxso.net/dnm/api/v6/7e0PTVDdJ65eumyzagWiJKiw6MU/AAAABT97gR7HXuq53m2BTmHPnYTJ46_MWIbJvLKSPtMDO55EJmAma6C5mLqixkG4eGlWBvM9OctGwy4gF49l4OOxdLuGEw6a.jpg?r=5a5\" />', 'summary_detail': {'type': 'text/html', 'language': None, 'base': 'https://usa.newonnetflix.info/feed', 'value': 'Years after the mysterious murder of her parents, a traumatized woman gains supernatural powers that aid in her quest for revenge against the killers.<br /><img src=\"https://occ-0-3419-3418.1.nflxso.net/dnm/api/v6/7e0PTVDdJ65eumyzagWiJKiw6MU/AAAABT97gR7HXuq53m2BTmHPnYTJ46_MWIbJvLKSPtMDO55EJmAma6C5mLqixkG4eGlWBvM9OctGwy4gF49l4OOxdLuGEw6a.jpg?r=5a5\" />'}, 'published': 'Wed, 18 Aug 2021 01:07:08 -0400', 'published_parsed': time.struct_time(tm_year=2021, tm_mon=8, tm_mday=18, tm_hour=5, tm_min=7, tm_sec=8, tm_wday=2, tm_yday=230, tm_isdst=0), 'id': 'https://usa.newonnetflix.info/info/81435734', 'guidislink': False}, {'title': '18th Aug: Pahuna (2018), 1hr 22m [TV-PG] - Streaming Again (6.75/10)', 'title_detail': {'type': 'text/plain', 'language': None, 'base': 'https://usa.newonnetflix.info/feed', 'value': '18th Aug: Pahuna (2018), 1hr 22m [TV-PG] - Streaming Again (6.75/10)'}, 'links': [{'rel': 'alternate', 'type': 'text/html', 'href': 'https://usa.newonnetflix.info/info/81045052'}], 'link': 'https://usa.newonnetflix.info/info/81045052', 'summary': '[Streaming Again] Fleeing unrest in their native Nepal, three young siblings separated from their parents must beat the odds to survive on their own in India.<br /><img src=\"https://occ-0-3419-3418.1.nflxso.net/dnm/api/v6/7e0PTVDdJ65eumyzagWiJKiw6MU/AAAABfd2VetfvCLDHlC53CAm9-HFCIygpcDZsC30mQkA6rKUjVNO5WEeIRKfYirvw4nL-I0U2GIOMs1taWlzgoW10j4N6Hmz.jpg?r=975\" />', 'summary_detail': {'type': 'text/html', 'language': None, 'base': 'https://usa.newonnetflix.info/feed', 'value': '[Streaming Again] Fleeing unrest in their native Nepal, three young siblings separated from their parents must beat the odds to survive on their own in India.<br /><img src=\"https://occ-0-3419-3418.1.nflxso.net/dnm/api/v6/7e0PTVDdJ65eumyzagWiJKiw6MU/AAAABfd2VetfvCLDHlC53CAm9-HFCIygpcDZsC30mQkA6rKUjVNO5WEeIRKfYirvw4nL-I0U2GIOMs1taWlzgoW10j4N6Hmz.jpg?r=975\" />'}, 'published': 'Tue, 17 Aug 2021 22:07:19 -0400', 'published_parsed': time.struct_time(tm_year=2021, tm_mon=8, tm_mday=18, tm_hour=2, tm_min=7, tm_sec=19, tm_wday=2, tm_yday=230, tm_isdst=0), 'id': 'https://usa.newonnetflix.info/info/81045052', 'guidislink': False}, {'title': '18th Aug: Black Island (2021), 1hr 44m [TV-MA] (6/10)', 'title_detail': {'type': 'text/plain', 'language': None, 'base': 'https://usa.newonnetflix.info/feed', 'value': '18th Aug: Black Island (2021), 1hr 44m [TV-MA] (6/10)'}, 'links': [{'rel': 'alternate', 'type': 'text/html', 'href': 'https://usa.newonnetflix.info/info/81170838'}], 'link': 'https://usa.newonnetflix.info/info/81170838', 'summary': 'The dark secrets of a seemingly peaceful island threaten to swallow up an orphaned student when he grows close to a mysterious new teacher.<br /><img src=\"https://occ-0-3419-3418.1.nflxso.net/dnm/api/v6/7e0PTVDdJ65eumyzagWiJKiw6MU/AAAABS7DOdIfJ0BrIqNwi5WDAMqeSkHqaj2ngGW1wcfMNORPHTUAmOdtDqA5IKAHzFabT2IVhuVpzcyvTcomn_nBwZA-MX3UCJsWtx7RIm_KYX531mkxt8sQY9JsImgu6A.jpg?r=e53\" />', 'summary_detail': {'type': 'text/html', 'language': None, 'base': 'https://usa.newonnetflix.info/feed', 'value': 'The dark secrets of a seemingly peaceful island threaten to swallow up an orphaned student when he grows close to a mysterious new teacher.<br /><img src=\"https://occ-0-3419-3418.1.nflxso.net/dnm/api/v6/7e0PTVDdJ65eumyzagWiJKiw6MU/AAAABS7DOdIfJ0BrIqNwi5WDAMqeSkHqaj2ngGW1wcfMNORPHTUAmOdtDqA5IKAHzFabT2IVhuVpzcyvTcomn_nBwZA-MX3UCJsWtx7RIm_KYX531mkxt8sQY9JsImgu6A.jpg?r=e53\" />'}, 'published': 'Tue, 17 Aug 2021 22:07:08 -0400', 'published_parsed': time.struct_time(tm_year=2021, tm_mon=8, tm_mday=18, tm_hour=2, tm_min=7, tm_sec=8, tm_wday=2, tm_yday=230, tm_isdst=0), 'id': 'https://usa.newonnetflix.info/info/81170838', 'guidislink': False}, {'title': '18th Aug: The Defeated (2020), 1 Season [TV-MA] (6/10)', 'title_detail': {'type': 'text/plain', 'language': None, 'base': 'https://usa.newonnetflix.info/feed', 'value': '18th Aug: The Defeated (2020), 1 Season [TV-MA] (6/10)'}, 'links': [{'rel': 'alternate', 'type': 'text/html', 'href': 'https://usa.newonnetflix.info/info/81424068'}], 'link': 'https://usa.newonnetflix.info/info/81424068', 'summary': 'In 1946 Berlin, an American cop searches for his missing brother while helping a novice German policewoman fight the violent crimes engulfing the city.<br /><img src=\"https://occ-0-3419-3418.1.nflxso.net/dnm/api/v6/7e0PTVDdJ65eumyzagWiJKiw6MU/AAAABfM4XBdL30325TfpwygbD_Slv-SIxSCl_QR9zVFkDxcIxTlhrP6yyrfRcAQq8ZM3qUIFc7TN4uzCur6wWDNu8nXw1HGLuUDdoumY7M6ky7yi2r3NxbhGwueO-EgoAg.jpg?r=788\" />', 'summary_detail': {'type': 'text/html', 'language': None, 'base': 'https://usa.newonnetflix.info/feed', 'value': 'In 1946 Berlin, an American cop searches for his missing brother while helping a novice German policewoman fight the violent crimes engulfing the city.<br /><img src=\"https://occ-0-3419-3418.1.nflxso.net/dnm/api/v6/7e0PTVDdJ65eumyzagWiJKiw6MU/AAAABfM4XBdL30325TfpwygbD_Slv-SIxSCl_QR9zVFkDxcIxTlhrP6yyrfRcAQq8ZM3qUIFc7TN4uzCur6wWDNu8nXw1HGLuUDdoumY7M6ky7yi2r3NxbhGwueO-EgoAg.jpg?r=788\" />'}, 'published': 'Tue, 17 Aug 2021 22:07:08 -0400', 'published_parsed': time.struct_time(tm_year=2021, tm_mon=8, tm_mday=18, tm_hour=2, tm_min=7, tm_sec=8, tm_wday=2, tm_yday=230, tm_isdst=0), 'id': 'https://usa.newonnetflix.info/info/81424068', 'guidislink': False}, {'title': '18th Aug: Memories of a Murderer: The Nilsen Tapes (2021), 1hr 25m [TV-MA] (6/10)', 'title_detail': {'type': 'text/plain', 'language': None, 'base': 'https://usa.newonnetflix.info/feed', 'value': '18th Aug: Memories of a Murderer: The Nilsen Tapes (2021), 1hr 25m [TV-MA] (6/10)'}, 'links': [{'rel': 'alternate', 'type': 'text/html', 'href': 'https://usa.newonnetflix.info/info/81097791'}], 'link': 'https://usa.newonnetflix.info/info/81097791', 'summary': 'Serial killer Dennis Nilsen narrates his life and horrific crimes via a series of chilling audiotapes recorded from his jail cell.<br /><img src=\"https://occ-0-3419-3418.1.nflxso.net/dnm/api/v6/7e0PTVDdJ65eumyzagWiJKiw6MU/AAAABVSMRjujFSXWQPR0qLDqCcjgIYcqW559jrAGYX8oOj8sdGmrhqMZqvZcPTUhbQ_qlW_KK7X014cCLXQGrJqfM5CxojWNUXlXpDwCzlp-QRMU6qoOndnvnO1RyxGcdQ.jpg?r=00d\" />', 'summary_detail': {'type': 'text/html', 'language': None, 'base': 'https://usa.newonnetflix.info/feed', 'value': 'Serial killer Dennis Nilsen narrates his life and horrific crimes via a series of chilling audiotapes recorded from his jail cell.<br /><img src=\"https://occ-0-3419-3418.1.nflxso.net/dnm/api/v6/7e0PTVDdJ65eumyzagWiJKiw6MU/AAAABVSMRjujFSXWQPR0qLDqCcjgIYcqW559jrAGYX8oOj8sdGmrhqMZqvZcPTUhbQ_qlW_KK7X014cCLXQGrJqfM5CxojWNUXlXpDwCzlp-QRMU6qoOndnvnO1RyxGcdQ.jpg?r=00d\" />'}, 'published': 'Tue, 17 Aug 2021 22:07:08 -0400', 'published_parsed': time.struct_time(tm_year=2021, tm_mon=8, tm_mday=18, tm_hour=2, tm_min=7, tm_sec=8, tm_wday=2, tm_yday=230, tm_isdst=0), 'id': 'https://usa.newonnetflix.info/info/81097791', 'guidislink': False}, {'title': '18th Aug: Out of my league (2020), 1hr 31m [TV-MA] (6/10)', 'title_detail': {'type': 'text/plain', 'language': None, 'base': 'https://usa.newonnetflix.info/feed', 'value': '18th Aug: Out of my league (2020), 1hr 31m [TV-MA] (6/10)'}, 'links': [{'rel': 'alternate', 'type': 'text/html', 'href': 'https://usa.newonnetflix.info/info/81465008'}], 'link': 'https://usa.newonnetflix.info/info/81465008', 'summary': 'Tired of swiping through the dating scene with her besties in tow, a charming yet awkward woman with a rare genetic disorder sets her sights on love.<br /><img src=\"https://occ-0-3419-3418.1.nflxso.net/dnm/api/v6/7e0PTVDdJ65eumyzagWiJKiw6MU/AAAABTcn8oy1mAaoyEhsz6wOOAaG5g5r3d_kkFPPQlgYpd415_14dpz3LmDNFPvRx6TXUmcEOQASO2pKZoPH_zpUgxlKD7YqXXXs3ZZGFXmhcgD8GprrPZKMeFrJO4Wy4g.jpg?r=119\" />', 'summary_detail': {'type': 'text/html', 'language': None, 'base': 'https://usa.newonnetflix.info/feed', 'value': 'Tired of swiping through the dating scene with her besties in tow, a charming yet awkward woman with a rare genetic disorder sets her sights on love.<br /><img src=\"https://occ-0-3419-3418.1.nflxso.net/dnm/api/v6/7e0PTVDdJ65eumyzagWiJKiw6MU/AAAABTcn8oy1mAaoyEhsz6wOOAaG5g5r3d_kkFPPQlgYpd415_14dpz3LmDNFPvRx6TXUmcEOQASO2pKZoPH_zpUgxlKD7YqXXXs3ZZGFXmhcgD8GprrPZKMeFrJO4Wy4g.jpg?r=119\" />'}, 'published': 'Tue, 17 Aug 2021 22:07:08 -0400', 'published_parsed': time.struct_time(tm_year=2021, tm_mon=8, tm_mday=18, tm_hour=2, tm_min=7, tm_sec=8, tm_wday=2, tm_yday=230, tm_isdst=0), 'id': 'https://usa.newonnetflix.info/info/81465008', 'guidislink': False}, {'title': '18th Aug: The Secret Diary of an Exchange Student (2021), 1hr 36m [TV-14] (6/10)', 'title_detail': {'type': 'text/plain', 'language': None, 'base': 'https://usa.newonnetflix.info/feed', 'value': '18th Aug: The Secret Diary of an Exchange Student (2021), 1hr 36m [TV-14] (6/10)'}, 'links': [{'rel': 'alternate', 'type': 'text/html', 'href': 'https://usa.newonnetflix.info/info/81035250'}], 'link': 'https://usa.newonnetflix.info/info/81035250', 'summary': 'Looking to shake things up, two best friends embark on a life-changing adventure abroad as exchange students. But can they stay out of trouble?<br /><img src=\"https://occ-0-3419-3418.1.nflxso.net/dnm/api/v6/7e0PTVDdJ65eumyzagWiJKiw6MU/AAAABR57hFXyoFq7v9e7zHEv5tRaaooAD44-rJRDGKS-VR7usa2BkZNq6TrIEza-8FrJU2NO4Nag3VKqn90U1wRZein3C_AvSn4bNRU5qRRLps4e60Gri9-oukf2z9hpAw.jpg?r=e51\" />', 'summary_detail': {'type': 'text/html', 'language': None, 'base': 'https://usa.newonnetflix.info/feed', 'value': 'Looking to shake things up, two best friends embark on a life-changing adventure abroad as exchange students. But can they stay out of trouble?<br /><img src=\"https://occ-0-3419-3418.1.nflxso.net/dnm/api/v6/7e0PTVDdJ65eumyzagWiJKiw6MU/AAAABR57hFXyoFq7v9e7zHEv5tRaaooAD44-rJRDGKS-VR7usa2BkZNq6TrIEza-8FrJU2NO4Nag3VKqn90U1wRZein3C_AvSn4bNRU5qRRLps4e60Gri9-oukf2z9hpAw.jpg?r=e51\" />'}, 'published': 'Tue, 17 Aug 2021 22:07:08 -0400', 'published_parsed': time.struct_time(tm_year=2021, tm_mon=8, tm_mday=18, tm_hour=2, tm_min=7, tm_sec=8, tm_wday=2, tm_yday=230, tm_isdst=0), 'id': 'https://usa.newonnetflix.info/info/81035250', 'guidislink': False}, {'title': '17th Aug: Bombay (1995), 2hr 14m [TV-14] (7.05/10)', 'title_detail': {'type': 'text/plain', 'language': None, 'base': 'https://usa.newonnetflix.info/feed', 'value': '17th Aug: Bombay (1995), 2hr 14m [TV-14] (7.05/10)'}, 'links': [{'rel': 'alternate', 'type': 'text/html', 'href': 'https://usa.newonnetflix.info/info/322409'}], 'link': 'https://usa.newonnetflix.info/info/322409', 'summary': 'Years after they elope against their family\\'s wishes, a couple and their sons become caught in the throes of conflict in their city.<br /><img src=\"https://occ-0-92-90.1.nflxso.net/dnm/api/v6/7e0PTVDdJ65eumyzagWiJKiw6MU/AAAABQZBYpaon_T_6A0ZaTt4VRLRRMIXivgkLY-3HoAFqfyryLPCeAKbArEX_jb3y4uGtEECoPoZzJD1m3VhzAtgbydvYsWx.jpg?r=036\" />', 'summary_detail': {'type': 'text/html', 'language': None, 'base': 'https://usa.newonnetflix.info/feed', 'value': 'Years after they elope against their family\\'s wishes, a couple and their sons become caught in the throes of conflict in their city.<br /><img src=\"https://occ-0-92-90.1.nflxso.net/dnm/api/v6/7e0PTVDdJ65eumyzagWiJKiw6MU/AAAABQZBYpaon_T_6A0ZaTt4VRLRRMIXivgkLY-3HoAFqfyryLPCeAKbArEX_jb3y4uGtEECoPoZzJD1m3VhzAtgbydvYsWx.jpg?r=036\" />'}, 'published': 'Mon, 16 Aug 2021 22:07:10 -0400', 'published_parsed': time.struct_time(tm_year=2021, tm_mon=8, tm_mday=17, tm_hour=2, tm_min=7, tm_sec=10, tm_wday=1, tm_yday=229, tm_isdst=0), 'id': 'https://usa.newonnetflix.info/info/322409', 'guidislink': False}, {'title': '17th Aug: O Kadhal Kanmani (2015), 2hr 13m [TV-14] (6.7/10)', 'title_detail': {'type': 'text/plain', 'language': None, 'base': 'https://usa.newonnetflix.info/feed', 'value': '17th Aug: O Kadhal Kanmani (2015), 2hr 13m [TV-14] (6.7/10)'}, 'links': [{'rel': 'alternate', 'type': 'text/html', 'href': 'https://usa.newonnetflix.info/info/81464602'}], 'link': 'https://usa.newonnetflix.info/info/81464602', 'summary': 'It\\'s love at first sight for a young couple repelled by the concept of marriage, but their view shifts when they meet their older-couple neighbors.<br /><img src=\"https://occ-0-92-90.1.nflxso.net/dnm/api/v6/7e0PTVDdJ65eumyzagWiJKiw6MU/AAAABZRDr8r4478VRnEpAmnz3NcHYrd1cFflT-lXuUvWWzfTsprcrPLmpDFJeO1o-hVOHxK7pokYXJXtlc9etyzrTPo6sdAI.jpg?r=955\" />', 'summary_detail': {'type': 'text/html', 'language': None, 'base': 'https://usa.newonnetflix.info/feed', 'value': 'It\\'s love at first sight for a young couple repelled by the concept of marriage, but their view shifts when they meet their older-couple neighbors.<br /><img src=\"https://occ-0-92-90.1.nflxso.net/dnm/api/v6/7e0PTVDdJ65eumyzagWiJKiw6MU/AAAABZRDr8r4478VRnEpAmnz3NcHYrd1cFflT-lXuUvWWzfTsprcrPLmpDFJeO1o-hVOHxK7pokYXJXtlc9etyzrTPo6sdAI.jpg?r=955\" />'}, 'published': 'Mon, 16 Aug 2021 22:07:10 -0400', 'published_parsed': time.struct_time(tm_year=2021, tm_mon=8, tm_mday=17, tm_hour=2, tm_min=7, tm_sec=10, tm_wday=1, tm_yday=229, tm_isdst=0), 'id': 'https://usa.newonnetflix.info/info/81464602', 'guidislink': False}, {'title': '17th Aug: Untold: Deal With the Devil (2021), 1hr 17m [TV-MA] (6/10)', 'title_detail': {'type': 'text/plain', 'language': None, 'base': 'https://usa.newonnetflix.info/feed', 'value': '17th Aug: Untold: Deal With the Devil (2021), 1hr 17m [TV-MA] (6/10)'}, 'links': [{'rel': 'alternate', 'type': 'text/html', 'href': 'https://usa.newonnetflix.info/info/81026437'}], 'link': 'https://usa.newonnetflix.info/info/81026437', 'summary': 'Christy Martin broke boundaries and noses as she rose in the boxing world, but her public persona belied personal demons, abuse and a threat on her life.<br /><img src=\"https://occ-0-92-90.1.nflxso.net/dnm/api/v6/7e0PTVDdJ65eumyzagWiJKiw6MU/AAAABW9Pqcn0HkQriI4xouuF19w6Y9Wo3YYl-3P-6zUotXtpkfbCy_nDxgyP6T0g6sq3WKhw2F5GLnhrXA4gpEK2s1CVMweNo6LcIkI4fYoEgGjxB7girxwSEV8AJ-4DxA.jpg?r=48f\" />', 'summary_detail': {'type': 'text/html', 'language': None, 'base': 'https://usa.newonnetflix.info/feed', 'value': 'Christy Martin broke boundaries and noses as she rose in the boxing world, but her public persona belied personal demons, abuse and a threat on her life.<br /><img src=\"https://occ-0-92-90.1.nflxso.net/dnm/api/v6/7e0PTVDdJ65eumyzagWiJKiw6MU/AAAABW9Pqcn0HkQriI4xouuF19w6Y9Wo3YYl-3P-6zUotXtpkfbCy_nDxgyP6T0g6sq3WKhw2F5GLnhrXA4gpEK2s1CVMweNo6LcIkI4fYoEgGjxB7girxwSEV8AJ-4DxA.jpg?r=48f\" />'}, 'published': 'Mon, 16 Aug 2021 22:07:10 -0400', 'published_parsed': time.struct_time(tm_year=2021, tm_mon=8, tm_mday=17, tm_hour=2, tm_min=7, tm_sec=10, tm_wday=1, tm_yday=229, tm_isdst=0), 'id': 'https://usa.newonnetflix.info/info/81026437', 'guidislink': False}, {'title': '17th Aug: Toot-Toot Cory Carson (2021), 5 Seasons [TV-Y] - New Episodes (7.05/10)', 'title_detail': {'type': 'text/plain', 'language': None, 'base': 'https://usa.newonnetflix.info/feed', 'value': '17th Aug: Toot-Toot Cory Carson (2021), 5 Seasons [TV-Y] - New Episodes (7.05/10)'}, 'links': [{'rel': 'alternate', 'type': 'text/html', 'href': 'https://usa.newonnetflix.info/info/80237347'}], 'link': 'https://usa.newonnetflix.info/info/80237347', 'summary': '[New Episodes] Join kid car Cory Carson on his adventures around the winding roads of childhood in Bumperton Hills! Based on the hit toy line Toot-Toot Drivers.<br /><img src=\"https://occ-0-92-90.1.nflxso.net/dnm/api/v6/7e0PTVDdJ65eumyzagWiJKiw6MU/AAAABSQBDVItuWWtfrD44mysTkKywVqK4TJ3xps_XO73XbNcn3FyJPVdqjUDw0k-pF5LrCgI53sLByfDS8NOy14ebLuRbCYej8KKvELjcNMnfb2pnluHlZP5_oxhU208ZVMfUGGvrc-qC-xPypAABgvzrX8weNAYx_HR75_hH_YTbVL9Svh-flHa582i2TFvHLNtyQp1sCb4611TRQ6GHJuba5WdKAhd1F73rEByc2hoMqQJbhquqPkEb_xRvJAuj3DdFDiqKnG6P992U6_M9zuigs-OlZVWrE7gD6cmCa0iI4spdX84xkl7b8t07GjkhKS-HuPACeqmiFc.jpg?r=6e7\" />', 'summary_detail': {'type': 'text/html', 'language': None, 'base': 'https://usa.newonnetflix.info/feed', 'value': '[New Episodes] Join kid car Cory Carson on his adventures around the winding roads of childhood in Bumperton Hills! Based on the hit toy line Toot-Toot Drivers.<br /><img src=\"https://occ-0-92-90.1.nflxso.net/dnm/api/v6/7e0PTVDdJ65eumyzagWiJKiw6MU/AAAABSQBDVItuWWtfrD44mysTkKywVqK4TJ3xps_XO73XbNcn3FyJPVdqjUDw0k-pF5LrCgI53sLByfDS8NOy14ebLuRbCYej8KKvELjcNMnfb2pnluHlZP5_oxhU208ZVMfUGGvrc-qC-xPypAABgvzrX8weNAYx_HR75_hH_YTbVL9Svh-flHa582i2TFvHLNtyQp1sCb4611TRQ6GHJuba5WdKAhd1F73rEByc2hoMqQJbhquqPkEb_xRvJAuj3DdFDiqKnG6P992U6_M9zuigs-OlZVWrE7gD6cmCa0iI4spdX84xkl7b8t07GjkhKS-HuPACeqmiFc.jpg?r=6e7\" />'}, 'published': 'Mon, 16 Aug 2021 21:01:57 -0400', 'published_parsed': time.struct_time(tm_year=2021, tm_mon=8, tm_mday=17, tm_hour=1, tm_min=1, tm_sec=57, tm_wday=1, tm_yday=229, tm_isdst=0), 'id': 'https://usa.newonnetflix.info/info/80237347', 'guidislink': False}, {'title': '16th Aug: Mother Goose Club (2016), 2 Seasons [TV-Y] - New Episodes (6.7/10)', 'title_detail': {'type': 'text/plain', 'language': None, 'base': 'https://usa.newonnetflix.info/feed', 'value': '16th Aug: Mother Goose Club (2016), 2 Seasons [TV-Y] - New Episodes (6.7/10)'}, 'links': [{'rel': 'alternate', 'type': 'text/html', 'href': 'https://usa.newonnetflix.info/info/80044908'}], 'link': 'https://usa.newonnetflix.info/info/80044908', 'summary': '[New Episodes] Mother Goose Club\\'s colorful characters perform original songs and fresh takes on classic nursery rhymes to help kids learn as they sing and dance along.<br /><img src=\"https://occ-0-643-132.1.nflxso.net/dnm/api/v6/7e0PTVDdJ65eumyzagWiJKiw6MU/AAAABfBXCH3N4sg7U-v-CQ2FDEZlx9RSesBZyB_jgLac5JU0h2WEI3L3_F6b0wCg-lkHkvn6TUpZaeiIZN3sDGphK91hLUO-Wbj99DxUPNTTaLK9yWxHqBDjo3YzbKfV0YM2djQjcRNDDTzmntVUGnJkb4ey-oWK7QX7pxhh9TabGKQPTgvLw2S4EeZYBvngmInTFWmxTp6ynxaF1jvJLdM7DXf6SMC6SqGdvwrp6hu0LSQOEOVS1qhT1TBBvMEwbV3WH2Ubc89de39dACxgj4ERaGw-7rxc-MSnxCdzKlyZgovXtEPz.jpg?r=cc2\" />', 'summary_detail': {'type': 'text/html', 'language': None, 'base': 'https://usa.newonnetflix.info/feed', 'value': '[New Episodes] Mother Goose Club\\'s colorful characters perform original songs and fresh takes on classic nursery rhymes to help kids learn as they sing and dance along.<br /><img src=\"https://occ-0-643-132.1.nflxso.net/dnm/api/v6/7e0PTVDdJ65eumyzagWiJKiw6MU/AAAABfBXCH3N4sg7U-v-CQ2FDEZlx9RSesBZyB_jgLac5JU0h2WEI3L3_F6b0wCg-lkHkvn6TUpZaeiIZN3sDGphK91hLUO-Wbj99DxUPNTTaLK9yWxHqBDjo3YzbKfV0YM2djQjcRNDDTzmntVUGnJkb4ey-oWK7QX7pxhh9TabGKQPTgvLw2S4EeZYBvngmInTFWmxTp6ynxaF1jvJLdM7DXf6SMC6SqGdvwrp6hu0LSQOEOVS1qhT1TBBvMEwbV3WH2Ubc89de39dACxgj4ERaGw-7rxc-MSnxCdzKlyZgovXtEPz.jpg?r=cc2\" />'}, 'published': 'Mon, 16 Aug 2021 10:41:08 -0400', 'published_parsed': time.struct_time(tm_year=2021, tm_mon=8, tm_mday=16, tm_hour=14, tm_min=41, tm_sec=8, tm_wday=0, tm_yday=228, tm_isdst=0), 'id': 'https://usa.newonnetflix.info/info/80044908', 'guidislink': False}, {'title': '16th Aug: Walk of Shame (2014), 1hr 34m [R] (6/10)', 'title_detail': {'type': 'text/plain', 'language': None, 'base': 'https://usa.newonnetflix.info/feed', 'value': '16th Aug: Walk of Shame (2014), 1hr 34m [R] (6/10)'}, 'links': [{'rel': 'alternate', 'type': 'text/html', 'href': 'https://usa.newonnetflix.info/info/70266682'}], 'link': 'https://usa.newonnetflix.info/info/70266682', 'summary': 'After a night of boozy carousing, a local newscaster finds herself stranded on the streets of LA just hours before the job interview of a lifetime.<br /><img src=\"https://occ-0-3996-3997.1.nflxso.net/dnm/api/v6/7e0PTVDdJ65eumyzagWiJKiw6MU/AAAABf9t8vt-a9AS1eSH55chXmyiEyMfYszniy1JcMYwM5NfMbg6ITT0a1f7Q3NB7nJG0qxDUK_y3aP6HXTwNzimc71qsxjU.jpg?r=83b\" />', 'summary_detail': {'type': 'text/html', 'language': None, 'base': 'https://usa.newonnetflix.info/feed', 'value': 'After a night of boozy carousing, a local newscaster finds herself stranded on the streets of LA just hours before the job interview of a lifetime.<br /><img src=\"https://occ-0-3996-3997.1.nflxso.net/dnm/api/v6/7e0PTVDdJ65eumyzagWiJKiw6MU/AAAABf9t8vt-a9AS1eSH55chXmyiEyMfYszniy1JcMYwM5NfMbg6ITT0a1f7Q3NB7nJG0qxDUK_y3aP6HXTwNzimc71qsxjU.jpg?r=83b\" />'}, 'published': 'Mon, 16 Aug 2021 02:18:11 -0400', 'published_parsed': time.struct_time(tm_year=2021, tm_mon=8, tm_mday=16, tm_hour=6, tm_min=18, tm_sec=11, tm_wday=0, tm_yday=228, tm_isdst=0), 'id': 'https://usa.newonnetflix.info/info/70266682', 'guidislink': False}, {'title': '16th Aug: Winx Club (2015), 2 Seasons [TV-Y7] - New Episodes (6.1/10)', 'title_detail': {'type': 'text/plain', 'language': None, 'base': 'https://usa.newonnetflix.info/feed', 'value': '16th Aug: Winx Club (2015), 2 Seasons [TV-Y7] - New Episodes (6.1/10)'}, 'links': [{'rel': 'alternate', 'type': 'text/html', 'href': 'https://usa.newonnetflix.info/info/70177033'}], 'link': 'https://usa.newonnetflix.info/info/70177033', 'summary': '[New Episodes] In this animated fantasy, a girl named Bloom befriends a band of fairies, then follows them into the secretive and dangerous \"Magical Dimension.\"<br /><img src=\"https://occ-0-3996-3997.1.nflxso.net/dnm/api/v6/7e0PTVDdJ65eumyzagWiJKiw6MU/AAAABdq3zrjIqnsSbD-_RUcAbI9clxsdKAw5mY7GEVfRGqiFg95nyx2chQWT1zBlHTA1elnO_UEm74JTz7bkubHQbjvBdANp_GxbAuuYQ6ma-M6MMZNpmDcar8ReyzIjeY2AiPbYDU3AntkTTaIYSaj_9Gfp_NPzvg15mC1VhJRZPpajk4pnZAOB7R73j5ZudwI5QLy7KsaYNpGkjmA0xxbX1t--sNkG_ks5mMeZt9iIfE11IppPMamz5a_YiPUc-KwXsMA6lFMKyhaIkGjydDUaA1N_mlDjl31NO5c6seGZVT8MiNQ.jpg?r=e8d\" />', 'summary_detail': {'type': 'text/html', 'language': None, 'base': 'https://usa.newonnetflix.info/feed', 'value': '[New Episodes] In this animated fantasy, a girl named Bloom befriends a band of fairies, then follows them into the secretive and dangerous \"Magical Dimension.\"<br /><img src=\"https://occ-0-3996-3997.1.nflxso.net/dnm/api/v6/7e0PTVDdJ65eumyzagWiJKiw6MU/AAAABdq3zrjIqnsSbD-_RUcAbI9clxsdKAw5mY7GEVfRGqiFg95nyx2chQWT1zBlHTA1elnO_UEm74JTz7bkubHQbjvBdANp_GxbAuuYQ6ma-M6MMZNpmDcar8ReyzIjeY2AiPbYDU3AntkTTaIYSaj_9Gfp_NPzvg15mC1VhJRZPpajk4pnZAOB7R73j5ZudwI5QLy7KsaYNpGkjmA0xxbX1t--sNkG_ks5mMeZt9iIfE11IppPMamz5a_YiPUc-KwXsMA6lFMKyhaIkGjydDUaA1N_mlDjl31NO5c6seGZVT8MiNQ.jpg?r=e8d\" />'}, 'published': 'Sun, 15 Aug 2021 21:41:07 -0400', 'published_parsed': time.struct_time(tm_year=2021, tm_mon=8, tm_mday=16, tm_hour=1, tm_min=41, tm_sec=7, tm_wday=0, tm_yday=228, tm_isdst=0), 'id': 'https://usa.newonnetflix.info/info/70177033', 'guidislink': False}, {'title': '15th Aug: The Piano (1993), 2hr [R] (6.8/10)', 'title_detail': {'type': 'text/plain', 'language': None, 'base': 'https://usa.newonnetflix.info/feed', 'value': '15th Aug: The Piano (1993), 2hr [R] (6.8/10)'}, 'links': [{'rel': 'alternate', 'type': 'text/html', 'href': 'https://usa.newonnetflix.info/info/856048'}], 'link': 'https://usa.newonnetflix.info/info/856048', 'summary': 'With her daughter and her beloved piano in tow, a mute Scottish woman arrives in New Zealand, where a gruff loner sets out to seduce her.<br /><img src=\"https://occ-0-47-54.1.nflxso.net/dnm/api/v6/7e0PTVDdJ65eumyzagWiJKiw6MU/AAAABfvLjI5PtkCokyssL9ChyM8YOrDpUaiRf5JYhG_wgTktd2lSNZAiCbN8wvpTIXPVK026k1KKEbqUCgmSqQiI8XxZEuCw.jpg?r=feb\" />', 'summary_detail': {'type': 'text/html', 'language': None, 'base': 'https://usa.newonnetflix.info/feed', 'value': 'With her daughter and her beloved piano in tow, a mute Scottish woman arrives in New Zealand, where a gruff loner sets out to seduce her.<br /><img src=\"https://occ-0-47-54.1.nflxso.net/dnm/api/v6/7e0PTVDdJ65eumyzagWiJKiw6MU/AAAABfvLjI5PtkCokyssL9ChyM8YOrDpUaiRf5JYhG_wgTktd2lSNZAiCbN8wvpTIXPVK026k1KKEbqUCgmSqQiI8XxZEuCw.jpg?r=feb\" />'}, 'published': 'Sun, 15 Aug 2021 01:07:08 -0400', 'published_parsed': time.struct_time(tm_year=2021, tm_mon=8, tm_mday=15, tm_hour=5, tm_min=7, tm_sec=8, tm_wday=6, tm_yday=227, tm_isdst=0), 'id': 'https://usa.newonnetflix.info/info/856048', 'guidislink': False}, {'title': '15th Aug: Rascal Does Not Dream of Bunny Girl Senpai (2018), 1 Season [TV-14] (7.1/10)', 'title_detail': {'type': 'text/plain', 'language': None, 'base': 'https://usa.newonnetflix.info/feed', 'value': '15th Aug: Rascal Does Not Dream of Bunny Girl Senpai (2018), 1 Season [TV-14] (7.1/10)'}, 'links': [{'rel': 'alternate', 'type': 'text/html', 'href': 'https://usa.newonnetflix.info/info/81228009'}], 'link': 'https://usa.newonnetflix.info/info/81228009', 'summary': 'After experiencing \"puberty syndrome\" himself, high school pariah Sakuta keeps meeting girls suffering from it, including his sister and actor Mai.<br /><img src=\"https://occ-0-47-54.1.nflxso.net/dnm/api/v6/7e0PTVDdJ65eumyzagWiJKiw6MU/AAAABQy_dooZPrv24Xau7x8UxRJphqKxibp8BLY4JV-DeweetJsqnrb_QFeB898UaLQs1UF87hqup4zqW-XYdsPiPez0GbEE.jpg?r=2b0\" />', 'summary_detail': {'type': 'text/html', 'language': None, 'base': 'https://usa.newonnetflix.info/feed', 'value': 'After experiencing \"puberty syndrome\" himself, high school pariah Sakuta keeps meeting girls suffering from it, including his sister and actor Mai.<br /><img src=\"https://occ-0-47-54.1.nflxso.net/dnm/api/v6/7e0PTVDdJ65eumyzagWiJKiw6MU/AAAABQy_dooZPrv24Xau7x8UxRJphqKxibp8BLY4JV-DeweetJsqnrb_QFeB898UaLQs1UF87hqup4zqW-XYdsPiPez0GbEE.jpg?r=2b0\" />'}, 'published': 'Sun, 15 Aug 2021 01:07:08 -0400', 'published_parsed': time.struct_time(tm_year=2021, tm_mon=8, tm_mday=15, tm_hour=5, tm_min=7, tm_sec=8, tm_wday=6, tm_yday=227, tm_isdst=0), 'id': 'https://usa.newonnetflix.info/info/81228009', 'guidislink': False}, {'title': '15th Aug: Unroyal (2020), 1hr 36m [TV-MA] (6/10)', 'title_detail': {'type': 'text/plain', 'language': None, 'base': 'https://usa.newonnetflix.info/feed', 'value': '15th Aug: Unroyal (2020), 1hr 36m [TV-MA] (6/10)'}, 'links': [{'rel': 'alternate', 'type': 'text/html', 'href': 'https://usa.newonnetflix.info/info/81435717'}], 'link': 'https://usa.newonnetflix.info/info/81435717', 'summary': 'When a rude and arrogant princess finds herself relying on a gatekeeper after a terrible accident, it may be enough to make her change her ways.<br /><img src=\"https://occ-0-47-54.1.nflxso.net/dnm/api/v6/7e0PTVDdJ65eumyzagWiJKiw6MU/AAAABYertj4BWTpr8inIoWljSWgarPx4IFrusecPl1X6AJSLtmBpsoJ88J4R0oxYg2Ck-ePAjQjKrM2Aubv1Ri3YU4IExlwo.jpg?r=353\" />', 'summary_detail': {'type': 'text/html', 'language': None, 'base': 'https://usa.newonnetflix.info/feed', 'value': 'When a rude and arrogant princess finds herself relying on a gatekeeper after a terrible accident, it may be enough to make her change her ways.<br /><img src=\"https://occ-0-47-54.1.nflxso.net/dnm/api/v6/7e0PTVDdJ65eumyzagWiJKiw6MU/AAAABYertj4BWTpr8inIoWljSWgarPx4IFrusecPl1X6AJSLtmBpsoJ88J4R0oxYg2Ck-ePAjQjKrM2Aubv1Ri3YU4IExlwo.jpg?r=353\" />'}, 'published': 'Sun, 15 Aug 2021 01:07:08 -0400', 'published_parsed': time.struct_time(tm_year=2021, tm_mon=8, tm_mday=15, tm_hour=5, tm_min=7, tm_sec=8, tm_wday=6, tm_yday=227, tm_isdst=0), 'id': 'https://usa.newonnetflix.info/info/81435717', 'guidislink': False}, {'title': '15th Aug: The Creative Indians (2020), 1 Season [TV-MA] (7.15/10)', 'title_detail': {'type': 'text/plain', 'language': None, 'base': 'https://usa.newonnetflix.info/feed', 'value': '15th Aug: The Creative Indians (2020), 1 Season [TV-MA] (7.15/10)'}, 'links': [{'rel': 'alternate', 'type': 'text/html', 'href': 'https://usa.newonnetflix.info/info/81014811'}], 'link': 'https://usa.newonnetflix.info/info/81014811', 'summary': '[Episodes Removed] From chefs and comedians to filmmakers and fashion designers, India\\'s most notable imaginative minds share their artistic journeys.<br /><img src=\"https://occ-0-47-54.1.nflxso.net/dnm/api/v6/7e0PTVDdJ65eumyzagWiJKiw6MU/AAAABT2phj4qn08f0TD3L0S38kt4Y7E7YT3QVrqpEg4pkpQ6L2KzRj5KniDqSX1ZgBxlBrMR0fYykoOTkj1jCaSQRe8jMKeV.jpg?r=177\" />', 'summary_detail': {'type': 'text/html', 'language': None, 'base': 'https://usa.newonnetflix.info/feed', 'value': '[Episodes Removed] From chefs and comedians to filmmakers and fashion designers, India\\'s most notable imaginative minds share their artistic journeys.<br /><img src=\"https://occ-0-47-54.1.nflxso.net/dnm/api/v6/7e0PTVDdJ65eumyzagWiJKiw6MU/AAAABT2phj4qn08f0TD3L0S38kt4Y7E7YT3QVrqpEg4pkpQ6L2KzRj5KniDqSX1ZgBxlBrMR0fYykoOTkj1jCaSQRe8jMKeV.jpg?r=177\" />'}, 'published': 'Sat, 14 Aug 2021 22:01:19 -0400', 'published_parsed': time.struct_time(tm_year=2021, tm_mon=8, tm_mday=15, tm_hour=2, tm_min=1, tm_sec=19, tm_wday=6, tm_yday=227, tm_isdst=0), 'id': 'https://usa.newonnetflix.info/info/81014811', 'guidislink': False}, {'title': '15th Aug: Mother Goose Club (2016), 1 Season [TV-Y] (6.7/10)', 'title_detail': {'type': 'text/plain', 'language': None, 'base': 'https://usa.newonnetflix.info/feed', 'value': '15th Aug: Mother Goose Club (2016), 1 Season [TV-Y] (6.7/10)'}, 'links': [{'rel': 'alternate', 'type': 'text/html', 'href': 'https://usa.newonnetflix.info/info/80044908'}], 'link': 'https://usa.newonnetflix.info/info/80044908', 'summary': '[Episodes Removed] Mother Goose Club\\'s colorful characters perform original songs and fresh takes on classic nursery rhymes to help kids learn as they sing and dance along.<br /><img src=\"https://occ-0-47-54.1.nflxso.net/dnm/api/v6/7e0PTVDdJ65eumyzagWiJKiw6MU/AAAABYhSXnp01vg14UzSY83DH2ZyKd9W1mtarzdt_ys0JokRgaIyGclBzw42qhz7H32sdwr-v0CjagvQ7Xi1orjNrxNlymWKa87W2Hjd2_HaxvTeYTuVA8mMYDH7t4udYC4C2DHy41NtPa-QWGgSaC2kScTIE04hHZVvB0KXfRoNhrmmRFNbEpRjRbI53YwrN-sdPtKEtiuAA1w6rWR7hoQ9tDGr1ncuU-IEWtV34UTgC6GVhsGrikf-xJ16diNJ9-k2HVkZWm6avNyTnDKjvXEINRZ6Eo0AIdZlSOJ3D87zBRpyqBk.jpg?r=cc2\" />', 'summary_detail': {'type': 'text/html', 'language': None, 'base': 'https://usa.newonnetflix.info/feed', 'value': '[Episodes Removed] Mother Goose Club\\'s colorful characters perform original songs and fresh takes on classic nursery rhymes to help kids learn as they sing and dance along.<br /><img src=\"https://occ-0-47-54.1.nflxso.net/dnm/api/v6/7e0PTVDdJ65eumyzagWiJKiw6MU/AAAABYhSXnp01vg14UzSY83DH2ZyKd9W1mtarzdt_ys0JokRgaIyGclBzw42qhz7H32sdwr-v0CjagvQ7Xi1orjNrxNlymWKa87W2Hjd2_HaxvTeYTuVA8mMYDH7t4udYC4C2DHy41NtPa-QWGgSaC2kScTIE04hHZVvB0KXfRoNhrmmRFNbEpRjRbI53YwrN-sdPtKEtiuAA1w6rWR7hoQ9tDGr1ncuU-IEWtV34UTgC6GVhsGrikf-xJ16diNJ9-k2HVkZWm6avNyTnDKjvXEINRZ6Eo0AIdZlSOJ3D87zBRpyqBk.jpg?r=cc2\" />'}, 'published': 'Sat, 14 Aug 2021 21:01:10 -0400', 'published_parsed': time.struct_time(tm_year=2021, tm_mon=8, tm_mday=15, tm_hour=1, tm_min=1, tm_sec=10, tm_wday=6, tm_yday=227, tm_isdst=0), 'id': 'https://usa.newonnetflix.info/info/80044908', 'guidislink': False}, {'title': '13th Aug: Grace and Frankie (2021), 7 Seasons [TV-MA] - New Episodes (7.15/10)', 'title_detail': {'type': 'text/plain', 'language': None, 'base': 'https://usa.newonnetflix.info/feed', 'value': '13th Aug: Grace and Frankie (2021), 7 Seasons [TV-MA] - New Episodes (7.15/10)'}, 'links': [{'rel': 'alternate', 'type': 'text/html', 'href': 'https://usa.newonnetflix.info/info/80017537'}], 'link': 'https://usa.newonnetflix.info/info/80017537', 'summary': '[New Episodes] They\\'re not friends, but when their husbands leave them for each other, proper Grace and eccentric Frankie begin to bond in this Emmy-nominated series.<br /><img src=\"https://occ-0-116-114.1.nflxso.net/dnm/api/v6/7e0PTVDdJ65eumyzagWiJKiw6MU/AAAABUvKnXMwTWnukgu1mz9OMXTDugHN51vhbjqyTFsoZ4fIpk3VCc4BPTW2t3e3ayg0CN_6MTTBI-LF7YNicl2opcWhRXD4la6AjnqmQ8-iYqxro5UQ_nQkeecwcSak0XV19r1YfMLI_iMSC2JEXeXj0XMm4D9P9Z1Q1vAA_JVz2bm-Wzn4C1m5oOBGGP0kja65ccDYVEARhMDuBYNXcaKoGMNAlZLU7wnX6why_1VmPZj9Me41ArUAaKL6n1C_9ZbcrwyEBUIPe_e0FmDOAGYLp01FNJNOpqxOGPS0zI1k_pmw3tBqbU3zSt_et_-Bq7QOdkZ485YDB7E.jpg?r=93a\" />', 'summary_detail': {'type': 'text/html', 'language': None, 'base': 'https://usa.newonnetflix.info/feed', 'value': '[New Episodes] They\\'re not friends, but when their husbands leave them for each other, proper Grace and eccentric Frankie begin to bond in this Emmy-nominated series.<br /><img src=\"https://occ-0-116-114.1.nflxso.net/dnm/api/v6/7e0PTVDdJ65eumyzagWiJKiw6MU/AAAABUvKnXMwTWnukgu1mz9OMXTDugHN51vhbjqyTFsoZ4fIpk3VCc4BPTW2t3e3ayg0CN_6MTTBI-LF7YNicl2opcWhRXD4la6AjnqmQ8-iYqxro5UQ_nQkeecwcSak0XV19r1YfMLI_iMSC2JEXeXj0XMm4D9P9Z1Q1vAA_JVz2bm-Wzn4C1m5oOBGGP0kja65ccDYVEARhMDuBYNXcaKoGMNAlZLU7wnX6why_1VmPZj9Me41ArUAaKL6n1C_9ZbcrwyEBUIPe_e0FmDOAGYLp01FNJNOpqxOGPS0zI1k_pmw3tBqbU3zSt_et_-Bq7QOdkZ485YDB7E.jpg?r=93a\" />'}, 'published': 'Thu, 12 Aug 2021 22:41:08 -0400', 'published_parsed': time.struct_time(tm_year=2021, tm_mon=8, tm_mday=13, tm_hour=2, tm_min=41, tm_sec=8, tm_wday=4, tm_yday=225, tm_isdst=0), 'id': 'https://usa.newonnetflix.info/info/80017537', 'guidislink': False}, {'title': '13th Aug: Beckett (2021), 1hr 50m [TV-MA] (6/10)', 'title_detail': {'type': 'text/plain', 'language': None, 'base': 'https://usa.newonnetflix.info/feed', 'value': '13th Aug: Beckett (2021), 1hr 50m [TV-MA] (6/10)'}, 'links': [{'rel': 'alternate', 'type': 'text/html', 'href': 'https://usa.newonnetflix.info/info/80994937'}], 'link': 'https://usa.newonnetflix.info/info/80994937', 'summary': 'An American tourist goes on the run in Greece after a tragic accident plunges him into a political conspiracy that makes him a target for assassination.<br /><img src=\"https://occ-0-116-114.1.nflxso.net/dnm/api/v6/7e0PTVDdJ65eumyzagWiJKiw6MU/AAAABUFF4sGqr1zwTVs1Std3397j_zgnVN4OcyT5LaYOmCrvkT5JpEmxXaN_Uw-zg3A3XQ7jUDRIZh6DlWcE3RLh6as2yzkqL5KOyRJgqw0Pa_ZttDVqsEfPppFaPukuvQ.jpg?r=a64\" />', 'summary_detail': {'type': 'text/html', 'language': None, 'base': 'https://usa.newonnetflix.info/feed', 'value': 'An American tourist goes on the run in Greece after a tragic accident plunges him into a political conspiracy that makes him a target for assassination.<br /><img src=\"https://occ-0-116-114.1.nflxso.net/dnm/api/v6/7e0PTVDdJ65eumyzagWiJKiw6MU/AAAABUFF4sGqr1zwTVs1Std3397j_zgnVN4OcyT5LaYOmCrvkT5JpEmxXaN_Uw-zg3A3XQ7jUDRIZh6DlWcE3RLh6as2yzkqL5KOyRJgqw0Pa_ZttDVqsEfPppFaPukuvQ.jpg?r=a64\" />'}, 'published': 'Thu, 12 Aug 2021 22:07:09 -0400', 'published_parsed': time.struct_time(tm_year=2021, tm_mon=8, tm_mday=13, tm_hour=2, tm_min=7, tm_sec=9, tm_wday=4, tm_yday=225, tm_isdst=0), 'id': 'https://usa.newonnetflix.info/info/80994937', 'guidislink': False}, {'title': '13th Aug: Brand New Cherry Flavor (2021), Limited Series [TV-MA] (6/10)', 'title_detail': {'type': 'text/plain', 'language': None, 'base': 'https://usa.newonnetflix.info/feed', 'value': '13th Aug: Brand New Cherry Flavor (2021), Limited Series [TV-MA] (6/10)'}, 'links': [{'rel': 'alternate', 'type': 'text/html', 'href': 'https://usa.newonnetflix.info/info/80233374'}], 'link': 'https://usa.newonnetflix.info/info/80233374', 'summary': 'A filmmaker heads to Hollywood in the early \\'90s to make her movie but tumbles down a hallucinatory rabbit hole of sex, magic, revenge -- and kittens.<br /><img src=\"https://occ-0-116-114.1.nflxso.net/dnm/api/v6/7e0PTVDdJ65eumyzagWiJKiw6MU/AAAABc311mMDMUS5fgUtu-PuZvl2zrcraCOxtVw0JfD3TkSs6QW2BQyKV22lklKxa0ORtEFjj34-gvdY0IVIfscU7HtJnuKmrzfJkmBKuLL0MSSWDgKGzjGi_e79dGKW3A.jpg?r=e01\" />', 'summary_detail': {'type': 'text/html', 'language': None, 'base': 'https://usa.newonnetflix.info/feed', 'value': 'A filmmaker heads to Hollywood in the early \\'90s to make her movie but tumbles down a hallucinatory rabbit hole of sex, magic, revenge -- and kittens.<br /><img src=\"https://occ-0-116-114.1.nflxso.net/dnm/api/v6/7e0PTVDdJ65eumyzagWiJKiw6MU/AAAABc311mMDMUS5fgUtu-PuZvl2zrcraCOxtVw0JfD3TkSs6QW2BQyKV22lklKxa0ORtEFjj34-gvdY0IVIfscU7HtJnuKmrzfJkmBKuLL0MSSWDgKGzjGi_e79dGKW3A.jpg?r=e01\" />'}, 'published': 'Thu, 12 Aug 2021 22:07:09 -0400', 'published_parsed': time.struct_time(tm_year=2021, tm_mon=8, tm_mday=13, tm_hour=2, tm_min=7, tm_sec=9, tm_wday=4, tm_yday=225, tm_isdst=0), 'id': 'https://usa.newonnetflix.info/info/80233374', 'guidislink': False}, {'title': '13th Aug: Gone for Good (2021), Limited Series [TV-MA] (6.25/10)', 'title_detail': {'type': 'text/plain', 'language': None, 'base': 'https://usa.newonnetflix.info/feed', 'value': '13th Aug: Gone for Good (2021), Limited Series [TV-MA] (6.25/10)'}, 'links': [{'rel': 'alternate', 'type': 'text/html', 'href': 'https://usa.newonnetflix.info/info/81150793'}], 'link': 'https://usa.newonnetflix.info/info/81150793', 'summary': 'Ten years after losing two loved ones, a man is plunged into another dizzying mystery when his girlfriend vanishes. Based on a Harlan Coben novel.<br /><img src=\"https://occ-0-3934-3418.1.nflxso.net/dnm/api/v6/7e0PTVDdJ65eumyzagWiJKiw6MU/AAAABcCQFICnS7P5zEinCJvAF9hTwUAL6jQlbHl27I6NsIMijnvMFHxuRFULb97stAX2V72JPqbMMooS3ZH9WRsG_LsebIJ0Q5KJ88d3sf0z_Zi_o-bWLCR-RLuAk5bxvw.jpg?r=020\" />', 'summary_detail': {'type': 'text/html', 'language': None, 'base': 'https://usa.newonnetflix.info/feed', 'value': 'Ten years after losing two loved ones, a man is plunged into another dizzying mystery when his girlfriend vanishes. Based on a Harlan Coben novel.<br /><img src=\"https://occ-0-3934-3418.1.nflxso.net/dnm/api/v6/7e0PTVDdJ65eumyzagWiJKiw6MU/AAAABcCQFICnS7P5zEinCJvAF9hTwUAL6jQlbHl27I6NsIMijnvMFHxuRFULb97stAX2V72JPqbMMooS3ZH9WRsG_LsebIJ0Q5KJ88d3sf0z_Zi_o-bWLCR-RLuAk5bxvw.jpg?r=020\" />'}, 'published': 'Thu, 12 Aug 2021 22:07:09 -0400', 'published_parsed': time.struct_time(tm_year=2021, tm_mon=8, tm_mday=13, tm_hour=2, tm_min=7, tm_sec=9, tm_wday=4, tm_yday=225, tm_isdst=0), 'id': 'https://usa.newonnetflix.info/info/81150793', 'guidislink': False}, {'title': '13th Aug: Fast & Furious Spy Racers (2021), 5 Seasons [TV-Y7] - New Episodes (5.75/10)', 'title_detail': {'type': 'text/plain', 'language': None, 'base': 'https://usa.newonnetflix.info/feed', 'value': '13th Aug: Fast & Furious Spy Racers (2021), 5 Seasons [TV-Y7] - New Episodes (5.75/10)'}, 'links': [{'rel': 'alternate', 'type': 'text/html', 'href': 'https://usa.newonnetflix.info/info/80225085'}], 'link': 'https://usa.newonnetflix.info/info/80225085', 'summary': '[New Episodes] A government agency recruits teen driver Tony Toretto and his thrill-seeking friends to infiltrate a criminal street racing circuit as undercover spies.<br /><img src=\"https://occ-0-116-114.1.nflxso.net/dnm/api/v6/7e0PTVDdJ65eumyzagWiJKiw6MU/AAAABWt8A6YxuEk9ZjqKIyg348TuJMhWoU0oNmefkRbxGd9F_-UeITHYA1_fNbObOc2OBvu34Zh63GnE71_EVUdOa065aG6wvTsGk4J5NK2VSiJIk0PKqgMG2Z2NKSaD_3rHYbdMgQwiVzXFISaAj7pKrVqlUbDo1-vWRDjjGym1gv_C4LdNbjuvimGvsWH99yjIG4VG-v46RLHHyc9fHvULj84tOjMm8nSusU5z5jd9bwAQl3WwSwWnnfxMAV0nYS3Oggdj_IAPeSNmjksjfroGICf_gW-cq5BHvLgRpq_fF3mELOTHHpa7lR_uDSXPoSjtYIXpXqWOuWY.jpg?r=038\" />', 'summary_detail': {'type': 'text/html', 'language': None, 'base': 'https://usa.newonnetflix.info/feed', 'value': '[New Episodes] A government agency recruits teen driver Tony Toretto and his thrill-seeking friends to infiltrate a criminal street racing circuit as undercover spies.<br /><img src=\"https://occ-0-116-114.1.nflxso.net/dnm/api/v6/7e0PTVDdJ65eumyzagWiJKiw6MU/AAAABWt8A6YxuEk9ZjqKIyg348TuJMhWoU0oNmefkRbxGd9F_-UeITHYA1_fNbObOc2OBvu34Zh63GnE71_EVUdOa065aG6wvTsGk4J5NK2VSiJIk0PKqgMG2Z2NKSaD_3rHYbdMgQwiVzXFISaAj7pKrVqlUbDo1-vWRDjjGym1gv_C4LdNbjuvimGvsWH99yjIG4VG-v46RLHHyc9fHvULj84tOjMm8nSusU5z5jd9bwAQl3WwSwWnnfxMAV0nYS3Oggdj_IAPeSNmjksjfroGICf_gW-cq5BHvLgRpq_fF3mELOTHHpa7lR_uDSXPoSjtYIXpXqWOuWY.jpg?r=038\" />'}, 'published': 'Thu, 12 Aug 2021 21:01:21 -0400', 'published_parsed': time.struct_time(tm_year=2021, tm_mon=8, tm_mday=13, tm_hour=1, tm_min=1, tm_sec=21, tm_wday=4, tm_yday=225, tm_isdst=0), 'id': 'https://usa.newonnetflix.info/info/80225085', 'guidislink': False}, {'title': '13th Aug: Valeria (2021), 2 Seasons [TV-MA] - New Episodes (6.1/10)', 'title_detail': {'type': 'text/plain', 'language': None, 'base': 'https://usa.newonnetflix.info/feed', 'value': '13th Aug: Valeria (2021), 2 Seasons [TV-MA] - New Episodes (6.1/10)'}, 'links': [{'rel': 'alternate', 'type': 'text/html', 'href': 'https://usa.newonnetflix.info/info/80212986'}], 'link': 'https://usa.newonnetflix.info/info/80212986', 'summary': '[New Episodes] A writer in creative and marital crises finds support from three friends, who are also discovering themselves. Based on the novels by Elísabet Benavent.<br /><img src=\"https://occ-0-116-114.1.nflxso.net/dnm/api/v6/7e0PTVDdJ65eumyzagWiJKiw6MU/AAAABXr5FuSoQ_X0YsMJSLvaOMDfiQ6lMw3gzh2p3RyrYwV-HuV0xFioDsu-t7w9vd8ETtHcdBn9wYlRiNbU_Nzcg1lxkxuGYhBjDpe51gGKPACtQEsH4DVpmVNS0L3G4SSztUfj2GQs7P_jERQr1X906Ks7iKK5dSHXbQAALaROIAiXEEIpuUGPde8Bgp1p51QlRbaYh4Tgeq7ruRgNRlw_cdIHiIoAdU3-SCZDKhpHKGswAPf_LhJlPdX4FBja9Nlxn2QzUFsIL7gag31gW4wjtZrTmHSPf2hnPyS_2eOtpbsnGtnyjUQYBP1dUyyKyguMYGa1jz8e2rE.jpg?r=666\" />', 'summary_detail': {'type': 'text/html', 'language': None, 'base': 'https://usa.newonnetflix.info/feed', 'value': '[New Episodes] A writer in creative and marital crises finds support from three friends, who are also discovering themselves. Based on the novels by Elísabet Benavent.<br /><img src=\"https://occ-0-116-114.1.nflxso.net/dnm/api/v6/7e0PTVDdJ65eumyzagWiJKiw6MU/AAAABXr5FuSoQ_X0YsMJSLvaOMDfiQ6lMw3gzh2p3RyrYwV-HuV0xFioDsu-t7w9vd8ETtHcdBn9wYlRiNbU_Nzcg1lxkxuGYhBjDpe51gGKPACtQEsH4DVpmVNS0L3G4SSztUfj2GQs7P_jERQr1X906Ks7iKK5dSHXbQAALaROIAiXEEIpuUGPde8Bgp1p51QlRbaYh4Tgeq7ruRgNRlw_cdIHiIoAdU3-SCZDKhpHKGswAPf_LhJlPdX4FBja9Nlxn2QzUFsIL7gag31gW4wjtZrTmHSPf2hnPyS_2eOtpbsnGtnyjUQYBP1dUyyKyguMYGa1jz8e2rE.jpg?r=666\" />'}, 'published': 'Thu, 12 Aug 2021 21:01:19 -0400', 'published_parsed': time.struct_time(tm_year=2021, tm_mon=8, tm_mday=13, tm_hour=1, tm_min=1, tm_sec=19, tm_wday=4, tm_yday=225, tm_isdst=0), 'id': 'https://usa.newonnetflix.info/info/80212986', 'guidislink': False}, {'title': '13th Aug: The Kingdom (2021), 1 Season [TV-MA] (6/10)', 'title_detail': {'type': 'text/plain', 'language': None, 'base': 'https://usa.newonnetflix.info/feed', 'value': '13th Aug: The Kingdom (2021), 1 Season [TV-MA] (6/10)'}, 'links': [{'rel': 'alternate', 'type': 'text/html', 'href': 'https://usa.newonnetflix.info/info/81095387'}], 'link': 'https://usa.newonnetflix.info/info/81095387', 'summary': 'After his running mate\\'s murder, a controversial televangelist becomes Argentina\\'s presidential candidate. But nothing about him is as holy as he seems.<br /><img src=\"https://occ-0-3934-3418.1.nflxso.net/dnm/api/v6/7e0PTVDdJ65eumyzagWiJKiw6MU/AAAABULvCJmzPTEr2yUOXaazKrIxkAQus7VmYiZXLUm2OkNUXYYthtuhxUwY7htRCs-gU2D_4qB0gHONaGXbauEW3JZOW5csfs_nSc0ro9ZwSmShMQ6h8REls1osy-HxWg.jpg?r=ad5\" />', 'summary_detail': {'type': 'text/html', 'language': None, 'base': 'https://usa.newonnetflix.info/feed', 'value': 'After his running mate\\'s murder, a controversial televangelist becomes Argentina\\'s presidential candidate. But nothing about him is as holy as he seems.<br /><img src=\"https://occ-0-3934-3418.1.nflxso.net/dnm/api/v6/7e0PTVDdJ65eumyzagWiJKiw6MU/AAAABULvCJmzPTEr2yUOXaazKrIxkAQus7VmYiZXLUm2OkNUXYYthtuhxUwY7htRCs-gU2D_4qB0gHONaGXbauEW3JZOW5csfs_nSc0ro9ZwSmShMQ6h8REls1osy-HxWg.jpg?r=ad5\" />'}, 'published': 'Thu, 12 Aug 2021 20:00:00 -0400', 'published_parsed': time.struct_time(tm_year=2021, tm_mon=8, tm_mday=13, tm_hour=0, tm_min=0, tm_sec=0, tm_wday=4, tm_yday=225, tm_isdst=0), 'id': 'https://usa.newonnetflix.info/info/81095387', 'guidislink': False}]\n"
     ]
    }
   ],
   "source": [
    "print(feed.entries)"
   ]
  },
  {
   "cell_type": "raw",
   "metadata": {},
   "source": [
    "Compile the name of the feed as the souce, the published date, the movie ranking in the list, the movie title, a link to the movie, and the summary. "
   ]
  },
  {
   "cell_type": "code",
   "execution_count": 35,
   "metadata": {},
   "outputs": [
    {
     "name": "stdout",
     "output_type": "stream",
     "text": [
      "{'title': '18th Aug: Nneka The Pretty Serpent (2020), 2hr 20m [TV-14] (6/10)', 'title_detail': {'type': 'text/plain', 'language': None, 'base': 'https://usa.newonnetflix.info/feed', 'value': '18th Aug: Nneka The Pretty Serpent (2020), 2hr 20m [TV-14] (6/10)'}, 'links': [{'rel': 'alternate', 'type': 'text/html', 'href': 'https://usa.newonnetflix.info/info/81435734'}], 'link': 'https://usa.newonnetflix.info/info/81435734', 'summary': 'Years after the mysterious murder of her parents, a traumatized woman gains supernatural powers that aid in her quest for revenge against the killers.<br /><img src=\"https://occ-0-3419-3418.1.nflxso.net/dnm/api/v6/7e0PTVDdJ65eumyzagWiJKiw6MU/AAAABT97gR7HXuq53m2BTmHPnYTJ46_MWIbJvLKSPtMDO55EJmAma6C5mLqixkG4eGlWBvM9OctGwy4gF49l4OOxdLuGEw6a.jpg?r=5a5\" />', 'summary_detail': {'type': 'text/html', 'language': None, 'base': 'https://usa.newonnetflix.info/feed', 'value': 'Years after the mysterious murder of her parents, a traumatized woman gains supernatural powers that aid in her quest for revenge against the killers.<br /><img src=\"https://occ-0-3419-3418.1.nflxso.net/dnm/api/v6/7e0PTVDdJ65eumyzagWiJKiw6MU/AAAABT97gR7HXuq53m2BTmHPnYTJ46_MWIbJvLKSPtMDO55EJmAma6C5mLqixkG4eGlWBvM9OctGwy4gF49l4OOxdLuGEw6a.jpg?r=5a5\" />'}, 'published': 'Wed, 18 Aug 2021 01:07:08 -0400', 'published_parsed': time.struct_time(tm_year=2021, tm_mon=8, tm_mday=18, tm_hour=5, tm_min=7, tm_sec=8, tm_wday=2, tm_yday=230, tm_isdst=0), 'id': 'https://usa.newonnetflix.info/info/81435734', 'guidislink': False}\n"
     ]
    }
   ],
   "source": [
    "print(feed.entries[0])"
   ]
  },
  {
   "cell_type": "code",
   "execution_count": 37,
   "metadata": {},
   "outputs": [],
   "source": [
    "_keys=['id', 'published', 'title', 'link', 'summary']"
   ]
  },
  {
   "cell_type": "code",
   "execution_count": 49,
   "metadata": {},
   "outputs": [],
   "source": [
    "_df_list = [entry for entry in feed.entries for k, v in entry.items() if k in _keys]"
   ]
  },
  {
   "cell_type": "code",
   "execution_count": 50,
   "metadata": {},
   "outputs": [],
   "source": [
    "_df = pd.DataFrame(_df_list)"
   ]
  },
  {
   "cell_type": "code",
   "execution_count": 51,
   "metadata": {},
   "outputs": [
    {
     "name": "stdout",
     "output_type": "stream",
     "text": [
      "                                                 title  \\\n",
      "0    18th Aug: Nneka The Pretty Serpent (2020), 2hr...   \n",
      "1    18th Aug: Nneka The Pretty Serpent (2020), 2hr...   \n",
      "2    18th Aug: Nneka The Pretty Serpent (2020), 2hr...   \n",
      "3    18th Aug: Nneka The Pretty Serpent (2020), 2hr...   \n",
      "4    18th Aug: Nneka The Pretty Serpent (2020), 2hr...   \n",
      "..                                                 ...   \n",
      "125  13th Aug: The Kingdom (2021), 1 Season [TV-MA]...   \n",
      "126  13th Aug: The Kingdom (2021), 1 Season [TV-MA]...   \n",
      "127  13th Aug: The Kingdom (2021), 1 Season [TV-MA]...   \n",
      "128  13th Aug: The Kingdom (2021), 1 Season [TV-MA]...   \n",
      "129  13th Aug: The Kingdom (2021), 1 Season [TV-MA]...   \n",
      "\n",
      "                                          title_detail  \\\n",
      "0    {'type': 'text/plain', 'language': None, 'base...   \n",
      "1    {'type': 'text/plain', 'language': None, 'base...   \n",
      "2    {'type': 'text/plain', 'language': None, 'base...   \n",
      "3    {'type': 'text/plain', 'language': None, 'base...   \n",
      "4    {'type': 'text/plain', 'language': None, 'base...   \n",
      "..                                                 ...   \n",
      "125  {'type': 'text/plain', 'language': None, 'base...   \n",
      "126  {'type': 'text/plain', 'language': None, 'base...   \n",
      "127  {'type': 'text/plain', 'language': None, 'base...   \n",
      "128  {'type': 'text/plain', 'language': None, 'base...   \n",
      "129  {'type': 'text/plain', 'language': None, 'base...   \n",
      "\n",
      "                                                 links  \\\n",
      "0    [{'rel': 'alternate', 'type': 'text/html', 'hr...   \n",
      "1    [{'rel': 'alternate', 'type': 'text/html', 'hr...   \n",
      "2    [{'rel': 'alternate', 'type': 'text/html', 'hr...   \n",
      "3    [{'rel': 'alternate', 'type': 'text/html', 'hr...   \n",
      "4    [{'rel': 'alternate', 'type': 'text/html', 'hr...   \n",
      "..                                                 ...   \n",
      "125  [{'rel': 'alternate', 'type': 'text/html', 'hr...   \n",
      "126  [{'rel': 'alternate', 'type': 'text/html', 'hr...   \n",
      "127  [{'rel': 'alternate', 'type': 'text/html', 'hr...   \n",
      "128  [{'rel': 'alternate', 'type': 'text/html', 'hr...   \n",
      "129  [{'rel': 'alternate', 'type': 'text/html', 'hr...   \n",
      "\n",
      "                                            link  \\\n",
      "0    https://usa.newonnetflix.info/info/81435734   \n",
      "1    https://usa.newonnetflix.info/info/81435734   \n",
      "2    https://usa.newonnetflix.info/info/81435734   \n",
      "3    https://usa.newonnetflix.info/info/81435734   \n",
      "4    https://usa.newonnetflix.info/info/81435734   \n",
      "..                                           ...   \n",
      "125  https://usa.newonnetflix.info/info/81095387   \n",
      "126  https://usa.newonnetflix.info/info/81095387   \n",
      "127  https://usa.newonnetflix.info/info/81095387   \n",
      "128  https://usa.newonnetflix.info/info/81095387   \n",
      "129  https://usa.newonnetflix.info/info/81095387   \n",
      "\n",
      "                                               summary  \\\n",
      "0    Years after the mysterious murder of her paren...   \n",
      "1    Years after the mysterious murder of her paren...   \n",
      "2    Years after the mysterious murder of her paren...   \n",
      "3    Years after the mysterious murder of her paren...   \n",
      "4    Years after the mysterious murder of her paren...   \n",
      "..                                                 ...   \n",
      "125  After his running mate's murder, a controversi...   \n",
      "126  After his running mate's murder, a controversi...   \n",
      "127  After his running mate's murder, a controversi...   \n",
      "128  After his running mate's murder, a controversi...   \n",
      "129  After his running mate's murder, a controversi...   \n",
      "\n",
      "                                        summary_detail  \\\n",
      "0    {'type': 'text/html', 'language': None, 'base'...   \n",
      "1    {'type': 'text/html', 'language': None, 'base'...   \n",
      "2    {'type': 'text/html', 'language': None, 'base'...   \n",
      "3    {'type': 'text/html', 'language': None, 'base'...   \n",
      "4    {'type': 'text/html', 'language': None, 'base'...   \n",
      "..                                                 ...   \n",
      "125  {'type': 'text/html', 'language': None, 'base'...   \n",
      "126  {'type': 'text/html', 'language': None, 'base'...   \n",
      "127  {'type': 'text/html', 'language': None, 'base'...   \n",
      "128  {'type': 'text/html', 'language': None, 'base'...   \n",
      "129  {'type': 'text/html', 'language': None, 'base'...   \n",
      "\n",
      "                           published                   published_parsed  \\\n",
      "0    Wed, 18 Aug 2021 01:07:08 -0400  (2021, 8, 18, 5, 7, 8, 2, 230, 0)   \n",
      "1    Wed, 18 Aug 2021 01:07:08 -0400  (2021, 8, 18, 5, 7, 8, 2, 230, 0)   \n",
      "2    Wed, 18 Aug 2021 01:07:08 -0400  (2021, 8, 18, 5, 7, 8, 2, 230, 0)   \n",
      "3    Wed, 18 Aug 2021 01:07:08 -0400  (2021, 8, 18, 5, 7, 8, 2, 230, 0)   \n",
      "4    Wed, 18 Aug 2021 01:07:08 -0400  (2021, 8, 18, 5, 7, 8, 2, 230, 0)   \n",
      "..                               ...                                ...   \n",
      "125  Thu, 12 Aug 2021 20:00:00 -0400  (2021, 8, 13, 0, 0, 0, 4, 225, 0)   \n",
      "126  Thu, 12 Aug 2021 20:00:00 -0400  (2021, 8, 13, 0, 0, 0, 4, 225, 0)   \n",
      "127  Thu, 12 Aug 2021 20:00:00 -0400  (2021, 8, 13, 0, 0, 0, 4, 225, 0)   \n",
      "128  Thu, 12 Aug 2021 20:00:00 -0400  (2021, 8, 13, 0, 0, 0, 4, 225, 0)   \n",
      "129  Thu, 12 Aug 2021 20:00:00 -0400  (2021, 8, 13, 0, 0, 0, 4, 225, 0)   \n",
      "\n",
      "                                              id  guidislink  \n",
      "0    https://usa.newonnetflix.info/info/81435734       False  \n",
      "1    https://usa.newonnetflix.info/info/81435734       False  \n",
      "2    https://usa.newonnetflix.info/info/81435734       False  \n",
      "3    https://usa.newonnetflix.info/info/81435734       False  \n",
      "4    https://usa.newonnetflix.info/info/81435734       False  \n",
      "..                                           ...         ...  \n",
      "125  https://usa.newonnetflix.info/info/81095387       False  \n",
      "126  https://usa.newonnetflix.info/info/81095387       False  \n",
      "127  https://usa.newonnetflix.info/info/81095387       False  \n",
      "128  https://usa.newonnetflix.info/info/81095387       False  \n",
      "129  https://usa.newonnetflix.info/info/81095387       False  \n",
      "\n",
      "[130 rows x 10 columns]\n"
     ]
    }
   ],
   "source": [
    "print(_df)"
   ]
  },
  {
   "cell_type": "code",
   "execution_count": 56,
   "metadata": {},
   "outputs": [],
   "source": [
    "_df.to_csv(r'C:\\Users\\maggi\\01Jupyter\\pycon_2017-master\\rss_challenge_output.csv')"
   ]
  },
  {
   "cell_type": "code",
   "execution_count": 57,
   "metadata": {},
   "outputs": [
    {
     "name": "stdout",
     "output_type": "stream",
     "text": [
      "True\n"
     ]
    }
   ],
   "source": [
    "import os\n",
    "print(os.path.exists(r'C:\\Users\\maggi\\01Jupyter\\pycon_2017-master\\rss_challenge_output.csv'))"
   ]
  },
  {
   "cell_type": "code",
   "execution_count": null,
   "metadata": {},
   "outputs": [],
   "source": []
  }
 ],
 "metadata": {
  "anaconda-cloud": {},
  "kernelspec": {
   "display_name": "sbunit32",
   "language": "python",
   "name": "sbunit32"
  },
  "language_info": {
   "codemirror_mode": {
    "name": "ipython",
    "version": 3
   },
   "file_extension": ".py",
   "mimetype": "text/x-python",
   "name": "python",
   "nbconvert_exporter": "python",
   "pygments_lexer": "ipython3",
   "version": "3.9.6"
  }
 },
 "nbformat": 4,
 "nbformat_minor": 1
}
